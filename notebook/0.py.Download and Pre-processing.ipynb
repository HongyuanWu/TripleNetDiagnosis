{
 "cells": [
  {
   "cell_type": "markdown",
   "metadata": {},
   "source": [
    "# [`GEOquery`](https://www.bioconductor.org/packages/release/bioc/html/GEOquery.html)\n",
    "\n",
    "Reading the NCBI's GEO microarray SOGT files in R/BioConductor."
   ]
  },
  {
   "cell_type": "code",
   "execution_count": 1,
   "metadata": {},
   "outputs": [
    {
     "name": "stderr",
     "output_type": "stream",
     "text": [
      "Loading required package: BiocGenerics\n",
      "\n",
      "Loading required package: parallel\n",
      "\n",
      "\n",
      "Attaching package: ‘BiocGenerics’\n",
      "\n",
      "\n",
      "The following objects are masked from ‘package:parallel’:\n",
      "\n",
      "    clusterApply, clusterApplyLB, clusterCall, clusterEvalQ,\n",
      "    clusterExport, clusterMap, parApply, parCapply, parLapply,\n",
      "    parLapplyLB, parRapply, parSapply, parSapplyLB\n",
      "\n",
      "\n",
      "The following objects are masked from ‘package:stats’:\n",
      "\n",
      "    IQR, mad, sd, var, xtabs\n",
      "\n",
      "\n",
      "The following objects are masked from ‘package:base’:\n",
      "\n",
      "    anyDuplicated, append, as.data.frame, basename, cbind, colnames,\n",
      "    dirname, do.call, duplicated, eval, evalq, Filter, Find, get, grep,\n",
      "    grepl, intersect, is.unsorted, lapply, Map, mapply, match, mget,\n",
      "    order, paste, pmax, pmax.int, pmin, pmin.int, Position, rank,\n",
      "    rbind, Reduce, rownames, sapply, setdiff, sort, table, tapply,\n",
      "    union, unique, unsplit, which, which.max, which.min\n",
      "\n",
      "\n",
      "Welcome to Bioconductor\n",
      "\n",
      "    Vignettes contain introductory material; view with\n",
      "    'browseVignettes()'. To cite Bioconductor, see\n",
      "    'citation(\"Biobase\")', and for packages 'citation(\"pkgname\")'.\n",
      "\n",
      "\n",
      "Setting options('download.file.method.GEOquery'='auto')\n",
      "\n",
      "Setting options('GEOquery.inmemory.gpl'=FALSE)\n",
      "\n",
      "\n",
      "Attaching package: ‘limma’\n",
      "\n",
      "\n",
      "The following object is masked from ‘package:BiocGenerics’:\n",
      "\n",
      "    plotMA\n",
      "\n",
      "\n"
     ]
    }
   ],
   "source": [
    "origin <- getwd()\n",
    "\n",
    "# Load my own function from the library directory\n",
    "libdir <- \"../lib/\"\n",
    "setwd(libdir)\n",
    "source(\"GEO_utils.R\")\n",
    "setwd(origin)\n",
    "\n",
    "# Change directory to workspace (where to store the data).\n",
    "basedir <- \"../data/\"\n",
    "setwd(basedir)"
   ]
  },
  {
   "cell_type": "markdown",
   "metadata": {},
   "source": [
    "### GEO\n",
    "\n",
    "- [GEO expression omnibus](http://www.ncbi.nlm.nih.gov/geo/) is the largest repository of gene expression data.\n",
    "- SOFT stands for Simple Ombinus Format in Text.\n",
    "- There are actually four types of GEO SOFT file available:\n",
    "\n",
    "|abbreviation|GEO types|description|\n",
    "|:-:|:-:|:-|\n",
    "|GPL|GEO Platform|These files describe a particular type of microarray. They are annotation files.|\n",
    "|GSM|GEO Sample|Files that contain all the data from the use of a single chip. For each gene there will be multiple scores including the main one, held in the `VALUE` column.|\n",
    "|GSE|GEO Series| Lists of `GSM` files that together form a single experiment.|\n",
    "|GDS|GEO Dataset|These are curated files that hold a summarized combination of a `GSE` file and its `GSM` files. They contain normalized expression levels for each gene from each sample (i.e. just the `VALUE` field from the `GSM` file).|"
   ]
  },
  {
   "cell_type": "markdown",
   "metadata": {},
   "source": [
    "#### [Supplementary Table 3.](https://static-content.springer.com/esm/art%3A10.1038%2Fs41598-019-54603-2/MediaObjects/41598_2019_54603_MOESM2_ESM.pdf) Basic information of the microarray datasets from GEO\n",
    "\n",
    "|Data source | Platform  | `colname` | `ctrls` | Control (n) | `cases` | Case (n) | \n",
    "|:-:|:-:|:-:|:-:|:-:|:-:|:-:|\n",
    "|GSE34198|GPL6102 | `\"group\"` | `c(\"control\")` |48| `c(\"AIM\", \"AIMD6\")` |49|\n",
    "|GSE62646|GPL6244 | `\"cardiovascular disease state\"` | `c(\"CAD\")` |14| `c(\"STEMI\")` |84|\n",
    "|GSE60993|GPL6884 | `\"title\"` | `c(\"Normal\")` | 7| `c(\"STEMI\", \"NSTEMI\")` |17|\n",
    "|GSE61144|GPL6106 | `\"title\"` | `c(\"Normal\")` |10| `c(\"STEMI\")` | 7|\n",
    "|GSE24548|GPL8227 | `\"title\"` | `c(\"FAMI Control\")` | 3| `c(\"FAMI patient\")` | 4|\n",
    "|GSE53211|GPL18049| `\"title\"` | `c(\"Healthy-control\")` | 4| `c(\"STEMI\")` | 9|\n",
    "|GSE61741|GPL9040 | `\"disease\"` | `c(\"normal\")` |~~34~~ 94| `c(\"myocardial_infarction\")` |62|"
   ]
  },
  {
   "cell_type": "code",
   "execution_count": 2,
   "metadata": {},
   "outputs": [],
   "source": [
    "gse_names <- list(\"GSE34198\", \"GSE62646\", \"GSE60993\", \"GSE61144\", \"GSE24548\", \"GSE53211\", \"GSE61741\")\n",
    "gpl_names <- list(\"GPL6102\", \"GPL6244\", \"GPL6884\", \"GPL6106\", \"GPL8227\", \"GPL18049\", \"GPL9040\")\n",
    "colnames  <- list(\"group\", \"cardiovascular disease state\", \"title\", \"title\", \"title\", \"title\", \"disease\")\n",
    "controls  <- list(c(\"control\"), c(\"CAD\"), c(\"Normal\"), c(\"Normal\"), c(\"FAMI Control\"), c(\"Healthy-control\"), c(\"normal\"))\n",
    "cases     <- list(c(\"AIM\", \"AIMD6\"), c(\"STEMI\"), c(\"STEMI\", \"NSTEMI\"), c(\"STEMI\"), c(\"FAMI patient\"), c(\"STEMI\"), c(\"myocardial_infarction\"))"
   ]
  },
  {
   "cell_type": "code",
   "execution_count": 3,
   "metadata": {},
   "outputs": [
    {
     "name": "stdout",
     "output_type": "stream",
     "text": [
      "[1] \"gse_names: 7 data\"\n",
      "[1] \"gpl_names: 7 data\"\n",
      "[1] \"colnames : 7 data\"\n",
      "[1] \"controls : 7 data\"\n",
      "[1] \"cases    : 7 data\"\n"
     ]
    }
   ],
   "source": [
    "print(paste(\"gse_names:\", length(gse_names), \"data\"))\n",
    "print(paste(\"gpl_names:\", length(gpl_names), \"data\"))\n",
    "print(paste(\"colnames :\", length(colnames ), \"data\"))\n",
    "print(paste(\"controls :\", length(controls ), \"data\"))\n",
    "print(paste(\"cases    :\", length(cases    ), \"data\"))"
   ]
  },
  {
   "cell_type": "code",
   "execution_count": 4,
   "metadata": {
    "scrolled": false
   },
   "outputs": [
    {
     "name": "stdout",
     "output_type": "stream",
     "text": [
      "[1] \"Processing GSE34198\"\n"
     ]
    },
    {
     "name": "stderr",
     "output_type": "stream",
     "text": [
      "Found 1 file(s)\n",
      "\n",
      "GSE34198_series_matrix.txt.gz\n",
      "\n",
      "Using locally cached version: GSE34198/GSE34198_series_matrix.txt.gz\n",
      "\n",
      "Parsed with column specification:\n",
      "cols(\n",
      "  .default = col_double(),\n",
      "  ID_REF = \u001b[31mcol_character()\u001b[39m\n",
      ")\n",
      "\n",
      "See spec(...) for full column specifications.\n",
      "\n",
      "Using locally cached version of GPL6102 found here:\n",
      "GSE34198/GPL6102.annot.gz \n",
      "\n"
     ]
    },
    {
     "name": "stdout",
     "output_type": "stream",
     "text": [
      "[1] \"48 control samples.\"\n",
      "[1] \"49 case samples.\"\n",
      "[1] \"0 other samples.\"\n"
     ]
    },
    {
     "name": "stderr",
     "output_type": "stream",
     "text": [
      "Warning message:\n",
      "“Partial NA coefficients for 1865 probe(s)”\n"
     ]
    },
    {
     "name": "stdout",
     "output_type": "stream",
     "text": [
      "[1] \"Processing GSE62646\"\n"
     ]
    },
    {
     "name": "stderr",
     "output_type": "stream",
     "text": [
      "Found 1 file(s)\n",
      "\n",
      "GSE62646_series_matrix.txt.gz\n",
      "\n",
      "Using locally cached version: GSE62646/GSE62646_series_matrix.txt.gz\n",
      "\n",
      "Parsed with column specification:\n",
      "cols(\n",
      "  .default = col_double()\n",
      ")\n",
      "\n",
      "See spec(...) for full column specifications.\n",
      "\n",
      "Using locally cached version of GPL6244 found here:\n",
      "GSE62646/GPL6244.annot.gz \n",
      "\n"
     ]
    },
    {
     "name": "stdout",
     "output_type": "stream",
     "text": [
      "[1] \"14 control samples.\"\n",
      "[1] \"84 case samples.\"\n",
      "[1] \"0 other samples.\"\n",
      "[1] \"Processing GSE60993\"\n"
     ]
    },
    {
     "name": "stderr",
     "output_type": "stream",
     "text": [
      "Found 1 file(s)\n",
      "\n",
      "GSE60993_series_matrix.txt.gz\n",
      "\n",
      "Using locally cached version: GSE60993/GSE60993_series_matrix.txt.gz\n",
      "\n",
      "Parsed with column specification:\n",
      "cols(\n",
      "  .default = col_double(),\n",
      "  ID_REF = \u001b[31mcol_character()\u001b[39m\n",
      ")\n",
      "\n",
      "See spec(...) for full column specifications.\n",
      "\n",
      "Using locally cached version of GPL6884 found here:\n",
      "GSE60993/GPL6884.annot.gz \n",
      "\n"
     ]
    },
    {
     "name": "stdout",
     "output_type": "stream",
     "text": [
      "[1] \"7 control samples.\"\n",
      "[1] \"17 case samples.\"\n",
      "[1] \"9 other samples.\"\n",
      "[1] \"Processing GSE61144\"\n"
     ]
    },
    {
     "name": "stderr",
     "output_type": "stream",
     "text": [
      "Found 1 file(s)\n",
      "\n",
      "GSE61144_series_matrix.txt.gz\n",
      "\n",
      "Using locally cached version: GSE61144/GSE61144_series_matrix.txt.gz\n",
      "\n",
      "Parsed with column specification:\n",
      "cols(\n",
      "  .default = col_double()\n",
      ")\n",
      "\n",
      "See spec(...) for full column specifications.\n",
      "\n",
      "Warning message in download.file(myurl, destfile, mode = mode, quiet = TRUE, method = getOption(\"download.file.method.GEOquery\")):\n",
      "“cannot open URL 'https://ftp.ncbi.nlm.nih.gov/geo/platforms/GPL6nnn/GPL6106/annot/GPL6106.annot.gz': HTTP status was '404 Not Found'”\n",
      "Annotation GPL not available, so will use submitter GPL instead\n",
      "\n",
      "Using locally cached version of GPL6106 found here:\n",
      "GSE61144/GPL6106.soft \n",
      "\n"
     ]
    },
    {
     "name": "stdout",
     "output_type": "stream",
     "text": [
      "[1] \"10 control samples.\"\n",
      "[1] \"14 case samples.\"\n",
      "[1] \"0 other samples.\"\n",
      "[1] \"Processing GSE24548\"\n"
     ]
    },
    {
     "name": "stderr",
     "output_type": "stream",
     "text": [
      "Found 1 file(s)\n",
      "\n",
      "GSE24548_series_matrix.txt.gz\n",
      "\n",
      "Parsed with column specification:\n",
      "cols(\n",
      "  ID_REF = \u001b[31mcol_character()\u001b[39m,\n",
      "  GSM605087 = \u001b[32mcol_double()\u001b[39m,\n",
      "  GSM605088 = \u001b[32mcol_double()\u001b[39m,\n",
      "  GSM605089 = \u001b[32mcol_double()\u001b[39m,\n",
      "  GSM605090 = \u001b[32mcol_double()\u001b[39m,\n",
      "  GSM605091 = \u001b[32mcol_double()\u001b[39m,\n",
      "  GSM605092 = \u001b[32mcol_double()\u001b[39m,\n",
      "  GSM605113 = \u001b[32mcol_double()\u001b[39m\n",
      ")\n",
      "\n",
      "Warning message in download.file(myurl, destfile, mode = mode, quiet = TRUE, method = getOption(\"download.file.method.GEOquery\")):\n",
      "“cannot open URL 'https://ftp.ncbi.nlm.nih.gov/geo/platforms/GPL8nnn/GPL8227/annot/GPL8227.annot.gz': HTTP status was '404 Not Found'”\n",
      "Annotation GPL not available, so will use submitter GPL instead\n",
      "\n",
      "File stored at: \n",
      "\n",
      "GSE24548/GPL8227.soft\n",
      "\n",
      "Warning message:\n",
      "“Duplicated column names deduplicated: 'SPOT_ID' => 'SPOT_ID_1' [6]”\n"
     ]
    },
    {
     "name": "stdout",
     "output_type": "stream",
     "text": [
      "[1] \"3 control samples.\"\n",
      "[1] \"4 case samples.\"\n",
      "[1] \"0 other samples.\"\n",
      "[1] \"Processing GSE53211\"\n"
     ]
    },
    {
     "name": "stderr",
     "output_type": "stream",
     "text": [
      "Found 1 file(s)\n",
      "\n",
      "GSE53211_series_matrix.txt.gz\n",
      "\n",
      "Parsed with column specification:\n",
      "cols(\n",
      "  ID_REF = \u001b[31mcol_character()\u001b[39m,\n",
      "  GSM1287710 = \u001b[32mcol_double()\u001b[39m,\n",
      "  GSM1287711 = \u001b[32mcol_double()\u001b[39m,\n",
      "  GSM1287712 = \u001b[32mcol_double()\u001b[39m,\n",
      "  GSM1287713 = \u001b[32mcol_double()\u001b[39m,\n",
      "  GSM1287714 = \u001b[32mcol_double()\u001b[39m,\n",
      "  GSM1287715 = \u001b[32mcol_double()\u001b[39m,\n",
      "  GSM1287716 = \u001b[32mcol_double()\u001b[39m,\n",
      "  GSM1287717 = \u001b[32mcol_double()\u001b[39m,\n",
      "  GSM1287719 = \u001b[32mcol_double()\u001b[39m,\n",
      "  GSM1287721 = \u001b[32mcol_double()\u001b[39m,\n",
      "  GSM1287723 = \u001b[32mcol_double()\u001b[39m,\n",
      "  GSM1287724 = \u001b[32mcol_double()\u001b[39m,\n",
      "  GSM1287726 = \u001b[32mcol_double()\u001b[39m,\n",
      "  GSM1287728 = \u001b[32mcol_double()\u001b[39m,\n",
      "  GSM1287730 = \u001b[32mcol_double()\u001b[39m,\n",
      "  GSM1287731 = \u001b[32mcol_double()\u001b[39m,\n",
      "  GSM1287732 = \u001b[32mcol_double()\u001b[39m,\n",
      "  GSM1287733 = \u001b[32mcol_double()\u001b[39m\n",
      ")\n",
      "\n",
      "Warning message in download.file(myurl, destfile, mode = mode, quiet = TRUE, method = getOption(\"download.file.method.GEOquery\")):\n",
      "“cannot open URL 'https://ftp.ncbi.nlm.nih.gov/geo/platforms/GPL18nnn/GPL18049/annot/GPL18049.annot.gz': HTTP status was '404 Not Found'”\n",
      "Annotation GPL not available, so will use submitter GPL instead\n",
      "\n",
      "File stored at: \n",
      "\n",
      "GSE53211/GPL18049.soft\n",
      "\n"
     ]
    },
    {
     "name": "stdout",
     "output_type": "stream",
     "text": [
      "[1] \"4 control samples.\"\n",
      "[1] \"9 case samples.\"\n",
      "[1] \"5 other samples.\"\n"
     ]
    },
    {
     "name": "stderr",
     "output_type": "stream",
     "text": [
      "Warning message:\n",
      "“Partial NA coefficients for 24 probe(s)”\n"
     ]
    },
    {
     "name": "stdout",
     "output_type": "stream",
     "text": [
      "[1] \"Processing GSE61741\"\n"
     ]
    },
    {
     "name": "stderr",
     "output_type": "stream",
     "text": [
      "Found 1 file(s)\n",
      "\n",
      "GSE61741_series_matrix.txt.gz\n",
      "\n",
      "Using locally cached version: GSE61741/GSE61741_series_matrix.txt.gz\n",
      "\n",
      "Parsed with column specification:\n",
      "cols(\n",
      "  .default = col_double(),\n",
      "  ID_REF = \u001b[31mcol_character()\u001b[39m\n",
      ")\n",
      "\n",
      "See spec(...) for full column specifications.\n",
      "\n",
      "Warning message in download.file(myurl, destfile, mode = mode, quiet = TRUE, method = getOption(\"download.file.method.GEOquery\")):\n",
      "“cannot open URL 'https://ftp.ncbi.nlm.nih.gov/geo/platforms/GPL9nnn/GPL9040/annot/GPL9040.annot.gz': HTTP status was '404 Not Found'”\n",
      "Annotation GPL not available, so will use submitter GPL instead\n",
      "\n",
      "Using locally cached version of GPL9040 found here:\n",
      "GSE61741/GPL9040.soft \n",
      "\n"
     ]
    },
    {
     "name": "stdout",
     "output_type": "stream",
     "text": [
      "[1] \"94 control samples.\"\n",
      "[1] \"62 case samples.\"\n",
      "[1] \"893 other samples.\"\n"
     ]
    }
   ],
   "source": [
    "for (i in 1:length(gse_names)){\n",
    "    gse_name <- gse_names[i]\n",
    "    gpl_name <- gpl_names[i]\n",
    "    colname  <- colnames [i]\n",
    "    ctrl <- controls[i]\n",
    "    case <- cases[i]\n",
    "    print(paste(\"Processing\", gse_name))\n",
    "    \n",
    "    gset <- GSE2MArrayLM(GSE=gse_name, GPL=gpl_name, destdir=unlist(gse_name), colname=colname, ctrls=ctrl, cases=case)\n",
    "    write.table(gset, file=paste(\"GEOquery/\", \"MArrayLM/\", gse_name, \"_preprocessed.csv\", sep=\"\"), sep=\"\\t\")\n",
    "}"
   ]
  },
  {
   "cell_type": "markdown",
   "metadata": {},
   "source": [
    "### Reference\n",
    "\n",
    "- [GEO - Reading the NCBI's GEO microarray SOFT files in R/BioConductor - (2016-10-03)](https://mdozmorov.github.io/BIOS567/assets/presentation_Bioconductor/GEO.pdf)\n",
    "- [GEO2R - GEO - NCBI](https://www.ncbi.nlm.nih.gov/geo/geo2r)"
   ]
  },
  {
   "cell_type": "code",
   "execution_count": null,
   "metadata": {},
   "outputs": [],
   "source": []
  }
 ],
 "metadata": {
  "hide_input": false,
  "kernelspec": {
   "display_name": "R",
   "language": "R",
   "name": "ir"
  },
  "language_info": {
   "codemirror_mode": "r",
   "file_extension": ".r",
   "mimetype": "text/x-r-source",
   "name": "R",
   "pygments_lexer": "r",
   "version": "3.6.3"
  }
 },
 "nbformat": 4,
 "nbformat_minor": 2
}
