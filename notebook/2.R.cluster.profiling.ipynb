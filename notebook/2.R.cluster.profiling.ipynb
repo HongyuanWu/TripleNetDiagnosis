{
 "cells": [
  {
   "cell_type": "markdown",
   "metadata": {},
   "source": [
    "## Cluster Profiling\n",
    "\n",
    "Statistical analysis and visualization of functional profiles for genes and gene clusters.\n",
    "\n",
    "> In recently years, high-throughput experimental techniques such as microarray, RNA-Seq and mass spectrometry can detect cellular molecules at systems-level. These kinds of analyses generate huge quantitaties of data, which need to be given a biological interpretation. A commonly used approach is via clustering in the gene dimension for grouping different genes based on their [similarities](https://pubmed.ncbi.nlm.nih.gov/20179076/).\n",
    "\n",
    "> To search for shared functions among genes, a common way is to incorporate the biological knowledge, such as Gene Ontology (GO) and Kyoto Encyclopedia of Genes and Genomes (KEGG), for identifying predominant biological themes of a collection of genes."
   ]
  },
  {
   "cell_type": "code",
   "execution_count": 1,
   "metadata": {},
   "outputs": [
    {
     "name": "stderr",
     "output_type": "stream",
     "text": [
      "\n",
      "\n",
      "Registered S3 method overwritten by 'enrichplot':\n",
      "  method               from\n",
      "  fortify.enrichResult DOSE\n",
      "\n",
      "clusterProfiler v3.14.3  For help: https://guangchuangyu.github.io/software/clusterProfiler\n",
      "\n",
      "If you use clusterProfiler in published research, please cite:\n",
      "Guangchuang Yu, Li-Gen Wang, Yanyan Han, Qing-Yu He. clusterProfiler: an R package for comparing biological themes among gene clusters. OMICS: A Journal of Integrative Biology. 2012, 16(5):284-287.\n",
      "\n",
      "DOSE v3.12.0  For help: https://guangchuangyu.github.io/software/DOSE\n",
      "\n",
      "If you use DOSE in published research, please cite:\n",
      "Guangchuang Yu, Li-Gen Wang, Guang-Rong Yan, Qing-Yu He. DOSE: an R/Bioconductor package for Disease Ontology Semantic and Enrichment analysis. Bioinformatics 2015, 31(4):608-609\n",
      "\n",
      "\n",
      "Loading required package: ggplot2\n",
      "\n",
      "Loading required package: ggdendro\n",
      "\n",
      "Loading required package: gridExtra\n",
      "\n",
      "Loading required package: RColorBrewer\n",
      "\n",
      "Bioconductor version 3.10 (BiocManager 1.30.10), ?BiocManager::install for help\n",
      "\n",
      "Bioconductor version '3.10' is out-of-date; the current release version '3.11'\n",
      "  is available with R version '4.0'; see https://bioconductor.org/install\n",
      "\n",
      "Loading required package: graph\n",
      "\n",
      "Loading required package: BiocGenerics\n",
      "\n",
      "Loading required package: parallel\n",
      "\n",
      "\n",
      "Attaching package: ‘BiocGenerics’\n",
      "\n",
      "\n",
      "The following objects are masked from ‘package:parallel’:\n",
      "\n",
      "    clusterApply, clusterApplyLB, clusterCall, clusterEvalQ,\n",
      "    clusterExport, clusterMap, parApply, parCapply, parLapply,\n",
      "    parLapplyLB, parRapply, parSapply, parSapplyLB\n",
      "\n",
      "\n",
      "The following object is masked from ‘package:gridExtra’:\n",
      "\n",
      "    combine\n",
      "\n",
      "\n",
      "The following objects are masked from ‘package:stats’:\n",
      "\n",
      "    IQR, mad, sd, var, xtabs\n",
      "\n",
      "\n",
      "The following objects are masked from ‘package:base’:\n",
      "\n",
      "    anyDuplicated, append, as.data.frame, basename, cbind, colnames,\n",
      "    dirname, do.call, duplicated, eval, evalq, Filter, Find, get, grep,\n",
      "    grepl, intersect, is.unsorted, lapply, Map, mapply, match, mget,\n",
      "    order, paste, pmax, pmax.int, pmin, pmin.int, Position, rank,\n",
      "    rbind, Reduce, rownames, sapply, setdiff, sort, table, tapply,\n",
      "    union, unique, unsplit, which, which.max, which.min\n",
      "\n",
      "\n",
      "Loading required package: GOstats\n",
      "\n",
      "Loading required package: Biobase\n",
      "\n",
      "Welcome to Bioconductor\n",
      "\n",
      "    Vignettes contain introductory material; view with\n",
      "    'browseVignettes()'. To cite Bioconductor, see\n",
      "    'citation(\"Biobase\")', and for packages 'citation(\"pkgname\")'.\n",
      "\n",
      "\n",
      "Loading required package: Category\n",
      "\n",
      "Loading required package: stats4\n",
      "\n",
      "Loading required package: AnnotationDbi\n",
      "\n",
      "Loading required package: IRanges\n",
      "\n",
      "Loading required package: S4Vectors\n",
      "\n",
      "\n",
      "Attaching package: ‘S4Vectors’\n",
      "\n",
      "\n",
      "The following object is masked from ‘package:base’:\n",
      "\n",
      "    expand.grid\n",
      "\n",
      "\n",
      "Loading required package: Matrix\n",
      "\n",
      "\n",
      "Attaching package: ‘Matrix’\n",
      "\n",
      "\n",
      "The following object is masked from ‘package:S4Vectors’:\n",
      "\n",
      "    expand\n",
      "\n",
      "\n",
      "\n",
      "Attaching package: ‘GOstats’\n",
      "\n",
      "\n",
      "The following object is masked from ‘package:AnnotationDbi’:\n",
      "\n",
      "    makeGOGraph\n",
      "\n",
      "\n",
      "\n",
      "Attaching package: ‘RDAVIDWebService’\n",
      "\n",
      "\n",
      "The following object is masked from ‘package:AnnotationDbi’:\n",
      "\n",
      "    species\n",
      "\n",
      "\n",
      "The following object is masked from ‘package:IRanges’:\n",
      "\n",
      "    members\n",
      "\n",
      "\n",
      "The following objects are masked from ‘package:BiocGenerics’:\n",
      "\n",
      "    counts, species, type\n",
      "\n",
      "\n",
      "\n",
      "\n"
     ]
    }
   ],
   "source": [
    "origin <- getwd()\n",
    "\n",
    "# Load my own function from the library directory\n",
    "libdir <- \"../utils/\"\n",
    "setwd(libdir)\n",
    "source(\"ontology_utils.R\")\n",
    "setwd(origin)\n",
    "\n",
    "# Change directory to workspace (where to store the data).\n",
    "basedir <- \"../\"\n",
    "setwd(basedir)"
   ]
  },
  {
   "cell_type": "code",
   "execution_count": 2,
   "metadata": {},
   "outputs": [],
   "source": [
    "fig2_save_dir <- \"image/Figure.2.GO.KEGG.DO/\"\n",
    "fig3_save_dir <- \"image/Figure.3.Protein-protein.interaction/\""
   ]
  },
  {
   "cell_type": "code",
   "execution_count": 3,
   "metadata": {},
   "outputs": [],
   "source": [
    "# Change the time out interval bu\n",
    "david <- DAVIDWebService$new()\n",
    "setTimeOut(david, 50000)"
   ]
  },
  {
   "cell_type": "markdown",
   "metadata": {},
   "source": [
    "### Supported ontologies/pathways\n",
    "\n",
    "- Disease Ontology (via [`DOSE`](https://bioconductor.org/packages/release/bioc/html/DOSE.html))\n",
    "- Gene Ontology (supports many species with GO annotation query online via [AnnotationHub](https://bioconductor.org/packages/AnnotationHub/))\n",
    "- KEGG Pathway and Module with latest online data (supports more than 4000 species listed in [KEGG Organisms](http://www.genome.jp/kegg/catalog/org_list.html))\n",
    "- Protein-protein interaction"
   ]
  },
  {
   "cell_type": "markdown",
   "metadata": {},
   "source": [
    "### mRNA(DEGs)"
   ]
  },
  {
   "cell_type": "markdown",
   "metadata": {},
   "source": [
    "<div style=\"border: solid 1.0px #000000; padding: 0 1em;\">\n",
    "  <h4>Index</h4>\n",
    "  <ul>\n",
    "    <li><a href=\"#[DEGs]-Gene-Ontology\">Gene Ontology</a>\n",
    "    <li><a href=\"#[DEGs]-KEGG-pathways\">KEGG pathways</a>\n",
    "    <li><a href=\"#[DEGs]-Disease-Ontology\">Disease Ontology</a>\n",
    "    <li><a href=\"#[DEGs]-Protein-protein-interaction\">Protein protein interaction</a>\n",
    "  </ul>\n",
    "</div>"
   ]
  },
  {
   "cell_type": "code",
   "execution_count": 4,
   "metadata": {
    "scrolled": false
   },
   "outputs": [
    {
     "name": "stdout",
     "output_type": "stream",
     "text": [
      "[1] \"The number of DEGs : 310\"\n",
      "[1] \"The number of ALLGs : 33363\"\n"
     ]
    }
   ],
   "source": [
    "mRNA_data_dir <- \"data/GEOquery/DEGs/\"\n",
    "DEGs   <- scan(paste(mRNA_data_dir, \"1.Microarray.thresholding.310data.txt\",       sep=\"\"), what=\"character\")\n",
    "ALLGs  <- scan(paste(mRNA_data_dir, \"0.Download.and.Pre-processing.33342data.txt\", sep=\"\"), what=\"character\")\n",
    "\n",
    "print_var_length(DEGs)\n",
    "print_var_length(ALLGs)"
   ]
  },
  {
   "cell_type": "markdown",
   "metadata": {},
   "source": [
    "[`clusterProfiler`](https://bioconductor.org/packages/release/bioc/html/clusterProfiler.html) provides bitr and bitr_kegg for converting ID types. User should provides an annotation package, both `fromType` and `toType` can accept any types that supported. (Supported types are shown using `keytypes` command.)\n",
    "\n",
    "```R\n",
    "library(org.Hs.eg.db)\n",
    "keytypes(org.Hs.eg.db)\n",
    "```"
   ]
  },
  {
   "cell_type": "markdown",
   "metadata": {},
   "source": [
    "```R\n",
    "# `bitr`: Biological Id TranslatoR\n",
    "# `bitr_kegg`: Converting biological IDs using KEGG API\n",
    "eg <- bitr(DEGs, fromType=\"SYMBOL\", toType=c(\"ENTREZID\"), OrgDb =\"org.Hs.eg.db\")\n",
    "head(eg, 3)\n",
    "```"
   ]
  },
  {
   "cell_type": "markdown",
   "metadata": {},
   "source": [
    "#### [DEGs] Gene Ontology"
   ]
  },
  {
   "cell_type": "markdown",
   "metadata": {},
   "source": [
    "```R\n",
    "# `groupGO` is designed for gene classification based on GO distribution at a specific level.\n",
    "ggo <- groupGO(gene=DEGs, OrgDb=\"org.Hs.eg.db\", keyType=\"SYMBOL\", ont=\"CC\", level=2, readable=FALSE)\n",
    "head(ggo, 3)\n",
    "barplot(ggo)\n",
    "```"
   ]
  },
  {
   "cell_type": "code",
   "execution_count": 5,
   "metadata": {
    "scrolled": false
   },
   "outputs": [],
   "source": [
    "# fig2.A.path <- paste(fig2_save_dir, \"fig.2.a.GO-for-DEGs.png\", sep=\"\")\n",
    "# fig2.A <- enrichGOdotplot(\n",
    "#     gene=DEGs, OrgDb=\"org.Hs.eg.db\", keyType=\"SYMBOL\", pvalueCutoff=0.05, pAdjustMethod=\"BH\",\n",
    "#     universe=ALLGs, qvalueCutoff=0.2, minGSSize=10, maxGSSize=500, readable=FALSE,\n",
    "#     width=14, height=8, title=\"GO Enrichment Analysis of DEGs\"\n",
    "# )\n",
    "# myggsave(fig2.A.path)\n",
    "# fig2.A"
   ]
  },
  {
   "cell_type": "markdown",
   "metadata": {},
   "source": [
    "#### [DEGs] KEGG pathways"
   ]
  },
  {
   "cell_type": "code",
   "execution_count": 6,
   "metadata": {},
   "outputs": [
    {
     "name": "stdout",
     "output_type": "stream",
     "text": [
      "[1] \"The number of ENTREZ_DEG_IDs : 310\"\n",
      "[1] \"The number of ENTREZ_ALLG_IDs : 33363\"\n"
     ]
    }
   ],
   "source": [
    "ENTREZ_DEG_IDs  <- geneSYMBOL2EGID(gene_symbol=DEGs)\n",
    "ENTREZ_ALLG_IDs <- geneSYMBOL2EGID(gene_symbol=ALLGs)\n",
    "\n",
    "print_var_length(ENTREZ_DEG_IDs)\n",
    "print_var_length(ENTREZ_ALLG_IDs)"
   ]
  },
  {
   "cell_type": "code",
   "execution_count": 7,
   "metadata": {},
   "outputs": [
    {
     "name": "stdout",
     "output_type": "stream",
     "text": [
      "[1] \"The number of DEG_KEGG_IDs : 118\"\n",
      "[1] \"The number of ALLG_KEGG_IDs : 229\"\n"
     ]
    }
   ],
   "source": [
    "DEG_KEGG_IDs  <- EGID2KEGGID(ENTREZ_GENE_IDs=ENTREZ_DEG_IDs,  expand=TRUE)\n",
    "ALLG_KEGG_IDs <- EGID2KEGGID(ENTREZ_GENE_IDs=ENTREZ_ALLG_IDs, expand=TRUE)\n",
    "\n",
    "print_var_length(DEG_KEGG_IDs)\n",
    "print_var_length(ALLG_KEGG_IDs)"
   ]
  },
  {
   "cell_type": "code",
   "execution_count": 8,
   "metadata": {},
   "outputs": [],
   "source": [
    "df.KEGG.DO <- data.frame()"
   ]
  },
  {
   "cell_type": "code",
   "execution_count": 9,
   "metadata": {},
   "outputs": [],
   "source": [
    "mRNA_kegg <- enrichKEGG(\n",
    "    gene=DEG_KEGG_IDs, organism=\"hsa\", keyType=\"kegg\", \n",
    "    pvalueCutoff=0.05, pAdjustMethod=\"BH\",\n",
    "    # universe=ALLG_KEGG_IDs,\n",
    "    minGSSize=10, maxGSSize=500, qvalueCutoff=0.2,\n",
    "    use_internal_data=FALSE\n",
    ")\n",
    "df.mRNA_kegg <- as.data.frame(mRNA_kegg)\n",
    "if (nrow(df.mRNA_kegg)>0){\n",
    "  df.mRNA_kegg$SampleGroup <- \"KEGG\"\n",
    "  df.KEGG.DO <- rbind(df.KEGG.DO, df.mRNA_kegg)\n",
    "}"
   ]
  },
  {
   "cell_type": "markdown",
   "metadata": {},
   "source": [
    "#### [DEGs] Disease Ontology"
   ]
  },
  {
   "cell_type": "code",
   "execution_count": 10,
   "metadata": {},
   "outputs": [],
   "source": [
    "mRNA_david <- enrichDAVID(\n",
    "    gene=ENTREZ_DEG_IDs , idType=\"ENTREZ_GENE_ID\", \n",
    "    pvalueCutoff=0.05, pAdjustMethod=\"BH\",\n",
    "    # universe=ENTREZ_ALLG_IDs, \n",
    "    minGSSize=10, maxGSSize=500, qvalueCutoff=0.2,\n",
    "    annotation=\"GOTERM_BP_FAT\", species=NA, \n",
    "    david.user=\"Iwasaki-shuto0703@g.ecc.u-tokyo.ac.jp\"\n",
    ")\n",
    "df.mRNA_david <- as.data.frame(mRNA_david)\n",
    "if (nrow(df.mRNA_david)>0){\n",
    "  df.mRNA_david$SampleGroup <- \"Disease Ontology\"\n",
    "  df.KEGG.DO <- rbind(df.KEGG.DO, df.mRNA_david)\n",
    "}"
   ]
  },
  {
   "cell_type": "code",
   "execution_count": 11,
   "metadata": {},
   "outputs": [],
   "source": [
    "df.KEGG.DO <- fraction2float(df=df.KEGG.DO, colname=\"GeneRatio\")\n",
    "df.KEGG.DO$negLog10_Qvalue <- -log10(df.KEGG.DO$qvalue)\n",
    "# df.KEGG.DO$label <- paste(df.KEGG.DO$ID, df.KEGG.DO$Description)\n",
    "df.KEGG.DO$label <- df.KEGG.DO$Description\n",
    "df.KEGG.DO$label <- factor(df.KEGG.DO$label, levels=df.KEGG.DO$label[order(df.KEGG.DO$SampleGroup, df.KEGG.DO$GeneRatio)])"
   ]
  },
  {
   "cell_type": "code",
   "execution_count": 12,
   "metadata": {},
   "outputs": [],
   "source": [
    "# fig2.B.path <- paste(fig2_save_dir, \"fig.2.b.KEGG-DO-for-DEGs.png\", sep=\"\")\n",
    "# fig2.B <- ggplot() +\n",
    "# geom_point(data=df.KEGG.DO, mapping=aes(x=GeneRatio, y=label, shape=SampleGroup, color=negLog10_Qvalue, size=Count)) +\n",
    "# ggtitle(label=\"KEGG pathway and DO Enrichment Analysis of DEGs\", subtitle=waiver()) +\n",
    "# scale_colour_gradient(low=\"blue\", high=\"red\")\n",
    "# myggsave(fig2.B.path)\n",
    "# fig2.B"
   ]
  },
  {
   "cell_type": "markdown",
   "metadata": {},
   "source": [
    "#### [DEGs] Protein-protein interaction (PPI)"
   ]
  },
  {
   "cell_type": "markdown",
   "metadata": {},
   "source": [
    "> Information on protein experimental interactions and prediction was obtained using the [STRING database (version 10.5)](https://doi.org/10.1093/nar/gku1003). Coexpression experiments, gene fusion, neighborhoods, text mining and co-occurrence as the prediction methods were performed for these databases. Except for these, we used combinatorial scores to show the interaction of protein pairs. In the current study, **a combined score >0.9 was set as the threshold** to pick up the hub genes in the network after DEGs were mapped to PPIs. We used **degrees to show the role of protein nodes in the network.** Network modules may have a specific biological significance, so it is usually the core of protein network. We **used Cytoscape software package (version 3.61) to detect main clustering modules.** The most notable clustering modules, were identified using the **Molecular Complex Detection (MCODE) app.** Subsequently, to identify the KEGG pathway for DEGs enrichment, we also employed the `clusterProfiler` package in R and set the threshold at **EASE to ≤0.05, count ≥ 2.** The MCODE score was set at **the cutoff value of >6.**"
   ]
  },
  {
   "cell_type": "markdown",
   "metadata": {},
   "source": [
    "### miRNA(DEMis)"
   ]
  },
  {
   "cell_type": "markdown",
   "metadata": {},
   "source": [
    "<div style=\"border: solid 1.0px #000000; padding: 0 1em;\">\n",
    "  <h4>Index</h4>\n",
    "  <ul>\n",
    "    <li><a href=\"#[DEMis]-KEGG-pathways\">KEGG pathways</a>\n",
    "    <li><a href=\"#[DEMis]-Disease-Ontology\">Disease Ontology</a>\n",
    "  </ul>\n",
    "</div>"
   ]
  },
  {
   "cell_type": "code",
   "execution_count": 13,
   "metadata": {},
   "outputs": [
    {
     "name": "stdout",
     "output_type": "stream",
     "text": [
      "[1] \"The number of DEMis : 123\"\n",
      "[1] \"The number of ALLMis : 862\"\n"
     ]
    }
   ],
   "source": [
    "miRNA_data_dir <- \"data/GEOquery/DEMis/\"\n",
    "DEMis   <- scan(paste(miRNA_data_dir, \"1.Microarray.thresholding.123data.txt\",     sep=\"\"), what=\"character\")\n",
    "ALLMis  <- scan(paste(miRNA_data_dir, \"0.Download.and.Pre-processing.862data.txt\", sep=\"\"), what=\"character\")\n",
    "\n",
    "print_var_length(DEMis)\n",
    "print_var_length(ALLMis)"
   ]
  },
  {
   "cell_type": "markdown",
   "metadata": {},
   "source": [
    "#### [DEMis] KEGG pathways"
   ]
  },
  {
   "cell_type": "code",
   "execution_count": 14,
   "metadata": {},
   "outputs": [
    {
     "name": "stderr",
     "output_type": "stream",
     "text": [
      "Warning message:\n",
      "“`select_()` is deprecated as of dplyr 0.7.0.\n",
      "Please use `select()` instead.\n",
      "\u001b[90mThis warning is displayed once every 8 hours.\u001b[39m\n",
      "\u001b[90mCall `lifecycle::last_warnings()` to see where this warning was generated.\u001b[39m”\n",
      "Warning message:\n",
      "“`filter_()` is deprecated as of dplyr 0.7.0.\n",
      "Please use `filter()` instead.\n",
      "See vignette('programming') for more help\n",
      "\u001b[90mThis warning is displayed once every 8 hours.\u001b[39m\n",
      "\u001b[90mCall `lifecycle::last_warnings()` to see where this warning was generated.\u001b[39m”\n",
      "Cache found\n",
      "\n",
      "Cache found\n",
      "\n"
     ]
    },
    {
     "name": "stdout",
     "output_type": "stream",
     "text": [
      "[1] \"The number of DEMis_KEGG_IDs : 0\"\n",
      "[1] \"The number of ALLMis_KEGG_IDs : 0\"\n"
     ]
    }
   ],
   "source": [
    "DEMis_KEGG_IDs  <- miRBaseID2KEGG(ALLMis)\n",
    "ALLMis_KEGG_IDs <- miRBaseID2KEGG(ALLMis)\n",
    "\n",
    "print_var_length(DEMis_KEGG_IDs)\n",
    "print_var_length(ALLMis_KEGG_IDs)"
   ]
  },
  {
   "cell_type": "markdown",
   "metadata": {},
   "source": [
    "#### [DEMis] Disease Ontology"
   ]
  },
  {
   "cell_type": "code",
   "execution_count": 15,
   "metadata": {},
   "outputs": [
    {
     "name": "stderr",
     "output_type": "stream",
     "text": [
      "Cache found\n",
      "\n",
      "Cache found\n",
      "\n"
     ]
    },
    {
     "name": "stdout",
     "output_type": "stream",
     "text": [
      "[1] \"The number of DEMis_ENSEMBL_IDs : 55\"\n",
      "[1] \"The number of ALLMis_ENSEMBL_IDs : 453\"\n"
     ]
    }
   ],
   "source": [
    "DEMis_ENSEMBL_IDs  <- miRBaseID2ENSEMBL(DEMis)\n",
    "ALLMis_ENSEMBL_IDs <- miRBaseID2ENSEMBL(ALLMis)\n",
    "\n",
    "print_var_length(DEMis_ENSEMBL_IDs)\n",
    "print_var_length(ALLMis_ENSEMBL_IDs)"
   ]
  },
  {
   "cell_type": "code",
   "execution_count": 16,
   "metadata": {},
   "outputs": [
    {
     "ename": "ERROR",
     "evalue": "Error in .jcall(stub, \"S\", \"authenticate\", email): org.apache.axis2.AxisFault: Read timed out\n",
     "output_type": "error",
     "traceback": [
      "Error in .jcall(stub, \"S\", \"authenticate\", email): org.apache.axis2.AxisFault: Read timed out\nTraceback:\n",
      "1. enrichDAVID(gene = DEMis_ENSEMBL_IDs, idType = \"ENSEMBL_GENE_ID\", \n .     pvalueCutoff = 0.05, pAdjustMethod = \"BH\", minGSSize = 10, \n .     maxGSSize = 500, qvalueCutoff = 0.2, annotation = \"GOTERM_BP_FAT\", \n .     species = NA, david.user = \"Iwasaki-shuto0703@g.ecc.u-tokyo.ac.jp\")",
      "2. DAVIDWebService$new(email = david.user, url = \"https://david.ncifcrf.gov/webservice/services/DAVIDWebService.DAVIDWebServiceHttpSoap12Endpoint/\")",
      "3. methods::new(def, ...)",
      "4. initialize(value, ...)",
      "5. initialize(value, ...)",
      "6. .Object$initialize(...)",
      "7. connect()",
      "8. tryCatch(ans <- .jcall(stub, \"S\", \"authenticate\", email), error = function(e) stop(e))",
      "9. tryCatchList(expr, classes, parentenv, handlers)",
      "10. tryCatchOne(expr, names, parentenv, handlers[[1L]])",
      "11. value[[3L]](cond)"
     ]
    }
   ],
   "source": [
    "miRNA_david <- enrichDAVID(\n",
    "    gene=DEMis_ENSEMBL_IDs, idType=\"ENSEMBL_GENE_ID\", \n",
    "    pvalueCutoff=0.05, pAdjustMethod=\"BH\",\n",
    "    # universe=ALLMis_ENSEMBL_IDs, \n",
    "    minGSSize=10, maxGSSize=500, qvalueCutoff=0.2,\n",
    "    annotation=\"GOTERM_BP_FAT\", species=NA, \n",
    "    david.user=\"Iwasaki-shuto0703@g.ecc.u-tokyo.ac.jp\"\n",
    ")"
   ]
  },
  {
   "cell_type": "code",
   "execution_count": null,
   "metadata": {},
   "outputs": [],
   "source": [
    "cnetplot(miRNA_david, circular=TRUE, colorEdge=TRUE)"
   ]
  },
  {
   "cell_type": "markdown",
   "metadata": {},
   "source": [
    "### Reference\n",
    "\n",
    "- [GOSemSim: An R Package for Measuring Semantic Similarity Among GO Terms and Gene Products](https://pubmed.ncbi.nlm.nih.gov/20179076/)\n",
    "- [Statistical analysis and visualization of functional profiles for genes and gene clusters](https://bioc.ism.ac.jp/packages/3.6/bioc/vignettes/clusterProfiler/inst/doc/clusterProfiler.html) \n",
    "- package:\n",
    "   - [`GOplot`](https://cran.r-project.org/web/packages/GOplot/index.html)\n",
    "   - [`DOSE`](https://bioconductor.org/packages/release/bioc/html/DOSE.html)\n",
    "   - [`clusterProfiler`](https://bioconductor.org/packages/release/bioc/html/clusterProfiler.html)"
   ]
  },
  {
   "cell_type": "code",
   "execution_count": null,
   "metadata": {},
   "outputs": [],
   "source": []
  }
 ],
 "metadata": {
  "hide_input": false,
  "kernelspec": {
   "display_name": "R",
   "language": "R",
   "name": "ir"
  },
  "language_info": {
   "codemirror_mode": "r",
   "file_extension": ".r",
   "mimetype": "text/x-r-source",
   "name": "R",
   "pygments_lexer": "r",
   "version": "3.6.3"
  }
 },
 "nbformat": 4,
 "nbformat_minor": 2
}
