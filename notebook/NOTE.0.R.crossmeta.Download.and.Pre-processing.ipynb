{
 "cells": [
  {
   "cell_type": "markdown",
   "metadata": {},
   "source": [
    "# Download & Preprocessing"
   ]
  },
  {
   "cell_type": "markdown",
   "metadata": {},
   "source": [
    "## 1.Obtaining Raw Data"
   ]
  },
  {
   "cell_type": "markdown",
   "metadata": {},
   "source": [
    "Search [GEO](https://www.ncbi.nlm.nih.gov/geo/) to find relevant microarray data <b>(in this case, Seven CAD-related microarray datasets)</b> for the meta-analysis."
   ]
  },
  {
   "cell_type": "markdown",
   "metadata": {},
   "source": [
    "#### `crossmeta`\n",
    "\n",
    "> `crossmeta` streamlines the cross-platform effect size and pathway meta-analysis of microarray data. For the analysis, you will need a list of Affymetrix, Illumina, and/or Agilent GSE numbers from [GEO](https://www.ncbi.nlm.nih.gov/geo/). All 21 species in the current [homologene](http://1.usa.gov/1TGoIy7) build are supported.\n",
    "\n",
    "[Bioconductor - crossmeta](https://www.bioconductor.org/packages/release/bioc/html/crossmeta.html)"
   ]
  },
  {
   "cell_type": "code",
   "execution_count": 1,
   "metadata": {},
   "outputs": [],
   "source": [
    "# if (!requireNamespace(\"BiocManager\", quietly = TRUE))\n",
    "#     install.packages(\"BiocManager\")\n",
    "\n",
    "# BiocManager::install(\"crossmeta\")"
   ]
  },
  {
   "cell_type": "code",
   "execution_count": 2,
   "metadata": {},
   "outputs": [],
   "source": [
    "data_dir <- \"../data\""
   ]
  },
  {
   "cell_type": "code",
   "execution_count": 3,
   "metadata": {},
   "outputs": [],
   "source": [
    "library(crossmeta)"
   ]
  },
  {
   "cell_type": "code",
   "execution_count": 4,
   "metadata": {},
   "outputs": [],
   "source": [
    "# gather all GSEs\n",
    "gse_names_mRNAs  <- c(\n",
    "    \"GSE34918\", \n",
    "    \"GSE62646\", \n",
    "    \"GSE60993\", \n",
    "    \"GSE61144\"\n",
    ")\n",
    "gse_names_miRNAs  <- c(\n",
    "    \"GSE24548\", \n",
    "    \"GSE53211\", \n",
    "    \"GSE61741\"\n",
    ")"
   ]
  },
  {
   "cell_type": "code",
   "execution_count": 5,
   "metadata": {},
   "outputs": [
    {
     "name": "stdout",
     "output_type": "stream",
     "text": [
      "[1] \"GSE34918\" \"GSE62646\" \"GSE60993\" \"GSE61144\"\n",
      "[1] \"GSE24548\" \"GSE53211\" \"GSE61741\"\n"
     ]
    }
   ],
   "source": [
    "print(gse_names_mRNAs)\n",
    "print(gse_names_miRNAs)"
   ]
  },
  {
   "cell_type": "code",
   "execution_count": 6,
   "metadata": {},
   "outputs": [],
   "source": [
    "# Download raw data to `data_dir` directory.\n",
    "# get_raw(gse_names=gse_names, data_dir=data_dir)"
   ]
  },
  {
   "cell_type": "markdown",
   "metadata": {},
   "source": [
    "<details>\n",
    "    <summary>Logs</summary>\n",
    "    \n",
    "```R\n",
    "Setting options('download.file.method.GEOquery'='auto')\n",
    "Setting options('GEOquery.inmemory.gpl'=FALSE)\n",
    " URL 'https://ftp.ncbi.nlm.nih.gov/geo/series/GSE34nnn/GSE34918/suppl//GSE34918_RAW.tar?tool=geoquery' を試しています\n",
    "Content type 'application/x-tar' length 27443200 bytes (26.2 MB)\n",
    "==================================================\n",
    "downloaded 26.2 MB\n",
    "\n",
    " URL 'https://ftp.ncbi.nlm.nih.gov/geo/series/GSE34nnn/GSE34918/suppl//GSE34918_non-normalized.txt.gz?tool=geoquery' を試しています\n",
    "Content type 'application/x-gzip' length 1663173 bytes (1.6 MB)\n",
    "==================================================\n",
    "downloaded 1.6 MB\n",
    "\n",
    " URL 'https://ftp.ncbi.nlm.nih.gov/geo/series/GSE62nnn/GSE62646/suppl//GSE62646_RAW.tar?tool=geoquery' を試しています\n",
    "Content type 'application/x-tar' length 433612800 bytes (413.5 MB)\n",
    "==================================================\n",
    "downloaded 413.5 MB\n",
    "\n",
    " URL 'https://ftp.ncbi.nlm.nih.gov/geo/series/GSE60nnn/GSE60993/suppl//GSE60993_RAW.tar?tool=geoquery' を試しています\n",
    "Content type 'application/x-tar' length 6584320 bytes (6.3 MB)\n",
    "==================================================\n",
    "downloaded 6.3 MB\n",
    "\n",
    " URL 'https://ftp.ncbi.nlm.nih.gov/geo/series/GSE60nnn/GSE60993/suppl//GSE60993_non-normalized.txt.gz?tool=geoquery' を試しています\n",
    "Content type 'application/x-gzip' length 10962907 bytes (10.5 MB)\n",
    "==================================================\n",
    "downloaded 10.5 MB\n",
    "\n",
    " URL 'https://ftp.ncbi.nlm.nih.gov/geo/series/GSE61nnn/GSE61144/suppl//GSE61144_non_normalized.txt.gz?tool=geoquery' を試しています\n",
    "Content type 'application/x-gzip' length 8457250 bytes (8.1 MB)\n",
    "==================================================\n",
    "downloaded 8.1 MB\n",
    "\n",
    " URL 'https://ftp.ncbi.nlm.nih.gov/geo/series/GSE24nnn/GSE24548/suppl//GSE24548_RAW.tar?tool=geoquery' を試しています\n",
    "Content type 'application/x-tar' length 419840 bytes (410 KB)\n",
    "==================================================\n",
    "downloaded 410 KB\n",
    "\n",
    " URL 'https://ftp.ncbi.nlm.nih.gov/geo/series/GSE53nnn/GSE53211/suppl//GSE53211_average.txt.gz?tool=geoquery' を試しています\n",
    "Content type 'application/x-gzip' length 7820 bytes\n",
    "==================================================\n",
    "downloaded 7820 bytes\n",
    "\n",
    " URL 'https://ftp.ncbi.nlm.nih.gov/geo/series/GSE53nnn/GSE53211/suppl//GSE53211_difference.txt.gz?tool=geoquery' を試しています\n",
    "Content type 'application/x-gzip' length 5842 bytes\n",
    "==================================================\n",
    "downloaded 5842 bytes\n",
    "\n",
    " URL 'https://ftp.ncbi.nlm.nih.gov/geo/series/GSE53nnn/GSE53211/suppl//GSE53211_fold_change.txt.gz?tool=geoquery' を試しています\n",
    "Content type 'application/x-gzip' length 5834 bytes\n",
    "==================================================\n",
    "downloaded 5834 bytes\n",
    "\n",
    " URL 'https://ftp.ncbi.nlm.nih.gov/geo/series/GSE53nnn/GSE53211/suppl//GSE53211_non-normalized_data.txt.gz?tool=geoquery' を試しています\n",
    "Content type 'application/x-gzip' length 23721 bytes (23 KB)\n",
    "==================================================\n",
    "downloaded 23 KB\n",
    "\n",
    " URL 'https://ftp.ncbi.nlm.nih.gov/geo/series/GSE53nnn/GSE53675/suppl//GSE53675_RAW.tar?tool=geoquery' を試しています\n",
    "Content type 'application/x-tar' length 14458880 bytes (13.8 MB)\n",
    "==================================================\n",
    "downloaded 13.8 MB\n",
    "\n",
    "```    \n",
    "    \n",
    "</details>"
   ]
  },
  {
   "cell_type": "markdown",
   "metadata": {},
   "source": [
    "## 2.Checking Raw Illumina Data"
   ]
  },
  {
   "cell_type": "markdown",
   "metadata": {},
   "source": [
    "It is difficult to automate loading raw Illumina data files because they lack a standardized format. `crossmeta` will attempt to fix the headers of raw Illumina data files so that they can be loaded. <b>If `crossmeta` fails, you will have to edit the headers of the raw Illumina data files yourself or omit the offending studies.</b>\n",
    "\n",
    "To edit raw Illumina data headers, I recommend that you download and set [Sublime Text 2](https://www.sublimetext.com/2) as your default text editor. It has very nice regular expression capabilities. [Here](https://cheatography.com/davechild/cheat-sheets/regular-expressions/) is a good regular expression cheat-sheat.\n",
    "\n",
    "Raw illumina files will be in `data_dir` in a seperate folder for each GSE. They are usually `.txt` files and include non-normalized in their name. Ensure the following:\n",
    "\n",
    "- <b>Detection p-values</b>: present (usually every second column)\n",
    "- <b>File format</b>: tab seperated .txt file\n",
    "- <b>File name</b>: includes non-normalized\n",
    "\n",
    "Also ensure that column names have the following format:\n",
    "\n",
    "- <b>Probe ID</b>: ID_REF\n",
    "- <b>Expression values</b>: AVG_Signal-sample_name\n",
    "- <b>Detection p-values</b>: Detection-sample_name\n",
    "\n",
    "To open these files one at a time with your default text editor:\n",
    "\n",
    "```R\n",
    "# this is why we gathered Illumina GSEs\n",
    "open_raw_illum(illum_names, data_dir)\n",
    "```"
   ]
  },
  {
   "cell_type": "code",
   "execution_count": 7,
   "metadata": {},
   "outputs": [],
   "source": [
    "# open_raw_illum(illum_names)"
   ]
  },
  {
   "cell_type": "code",
   "execution_count": 8,
   "metadata": {},
   "outputs": [],
   "source": [
    "# library(lydata)\n",
    "\n",
    "# # location of raw data\n",
    "# data_dir <- system.file(\"extdata\", package = \"lydata\")"
   ]
  },
  {
   "cell_type": "markdown",
   "metadata": {},
   "source": [
    "## 3.Loading and Annotating Data"
   ]
  },
  {
   "cell_type": "markdown",
   "metadata": {},
   "source": [
    "After downloading the raw data, <b>it must be loaded and annotated.</b> The necessary bioconductor annotation data packages will be downloaded as needed."
   ]
  },
  {
   "cell_type": "code",
   "execution_count": 13,
   "metadata": {},
   "outputs": [],
   "source": [
    "# library(Biobase)\n",
    "# library(AnnotationDbi)"
   ]
  },
  {
   "cell_type": "code",
   "execution_count": 10,
   "metadata": {
    "scrolled": true
   },
   "outputs": [],
   "source": [
    "# Loads and annotates raw data previously downloaded with get_raw\n",
    "esets_mRNAs  <- load_raw(gse_names=gse_names_mRNAs,  data_dir=data_dir)"
   ]
  },
  {
   "cell_type": "code",
   "execution_count": 11,
   "metadata": {},
   "outputs": [
    {
     "data": {
      "text/plain": [
       "$GSE34918\n",
       "ExpressionSet (storageMode: lockedEnvironment)\n",
       "assayData: 50605 features, 5 samples \n",
       "  element names: exprs \n",
       "protocolData: none\n",
       "phenoData\n",
       "  sampleNames: GSM857496 GSM857497 ... GSM857500 (5 total)\n",
       "  varLabels: title geo_accession ... title.raw (41 total)\n",
       "  varMetadata: labelDescription\n",
       "featureData\n",
       "  featureNames: ILMN_1343291 ILMN_1343295 ... ILMN_3311190 (50605\n",
       "    total)\n",
       "  fvarLabels: ENTREZID PROBE ... SYMBOL (5 total)\n",
       "  fvarMetadata: labelDescription\n",
       "experimentData: use 'experimentData(object)'\n",
       "Annotation: GPL10558 \n",
       "\n",
       "$GSE62646\n",
       "ExpressionSet (storageMode: lockedEnvironment)\n",
       "assayData: 40470 features, 98 samples \n",
       "  element names: exprs \n",
       "protocolData: none\n",
       "phenoData\n",
       "  sampleNames: GSM1530765 GSM1530766 ... GSM1530862 (98 total)\n",
       "  varLabels: title geo_accession ... scan_date (39 total)\n",
       "  varMetadata: labelDescription\n",
       "featureData\n",
       "  featureNames: 7896740 8023937 ... 8105991.9 (40470 total)\n",
       "  fvarLabels: ID GB_LIST ... ENTREZID_HS (16 total)\n",
       "  fvarMetadata: Column Description labelDescription\n",
       "experimentData: use 'experimentData(object)'\n",
       "Annotation: GPL6244 \n",
       "\n",
       "$GSE60993\n",
       "ExpressionSet (storageMode: lockedEnvironment)\n",
       "assayData: 50954 features, 33 samples \n",
       "  element names: exprs, pvals \n",
       "protocolData: none\n",
       "phenoData\n",
       "  sampleNames: GSM1495313 GSM1495314 ... GSM1495345 (33 total)\n",
       "  varLabels: title geo_accession ... title.raw (34 total)\n",
       "  varMetadata: labelDescription\n",
       "featureData\n",
       "  featureNames: ILMN_1762337 ILMN_1883785 ... ILMN_2166812.1 (50954\n",
       "    total)\n",
       "  fvarLabels: ID Species ... ENTREZID_HS (32 total)\n",
       "  fvarMetadata: Column Description labelDescription\n",
       "experimentData: use 'experimentData(object)'\n",
       "Annotation: GPL6884 \n",
       "\n",
       "$GSE61144\n",
       "ExpressionSet (storageMode: lockedEnvironment)\n",
       "assayData: 48687 features, 24 samples \n",
       "  element names: exprs \n",
       "protocolData: none\n",
       "phenoData\n",
       "  sampleNames: GSM1498369 GSM1498370 ... GSM1498392 (24 total)\n",
       "  varLabels: title geo_accession ... title.raw (42 total)\n",
       "  varMetadata: labelDescription\n",
       "featureData\n",
       "  featureNames: ILMN_10000 ILMN_100000 ... ILMN_99996 (48687 total)\n",
       "  fvarLabels: ENTREZID PROBE ... SYMBOL (5 total)\n",
       "  fvarMetadata: labelDescription\n",
       "experimentData: use 'experimentData(object)'\n",
       "Annotation: GPL6106 \n"
      ]
     },
     "metadata": {},
     "output_type": "display_data"
    }
   ],
   "source": [
    "esets_mRNAs"
   ]
  },
  {
   "cell_type": "code",
   "execution_count": 12,
   "metadata": {
    "scrolled": false
   },
   "outputs": [
    {
     "name": "stderr",
     "output_type": "stream",
     "text": [
      "https://ftp.ncbi.nlm.nih.gov/geo/series/GSE24nnn/GSE24548/matrix/\n",
      "\n",
      "OK\n",
      "\n",
      "Found 1 file(s)\n",
      "\n",
      "GSE24548_series_matrix.txt.gz\n",
      "\n",
      "Using locally cached version: ../data/GSE24548/GSE24548_series_matrix.txt.gz\n",
      "\n",
      "Setting options('download.file.method.GEOquery'='auto')\n",
      "\n",
      "Setting options('GEOquery.inmemory.gpl'=FALSE)\n",
      "\n",
      "Parsed with column specification:\n",
      "cols(\n",
      "  ID_REF = \u001b[31mcol_character()\u001b[39m,\n",
      "  GSM605087 = \u001b[32mcol_double()\u001b[39m,\n",
      "  GSM605088 = \u001b[32mcol_double()\u001b[39m,\n",
      "  GSM605089 = \u001b[32mcol_double()\u001b[39m,\n",
      "  GSM605090 = \u001b[32mcol_double()\u001b[39m,\n",
      "  GSM605091 = \u001b[32mcol_double()\u001b[39m,\n",
      "  GSM605092 = \u001b[32mcol_double()\u001b[39m,\n",
      "  GSM605113 = \u001b[32mcol_double()\u001b[39m\n",
      ")\n",
      "\n",
      "https://ftp.ncbi.nlm.nih.gov/geo/series/GSE24nnn/GSE24548/matrix/\n",
      "\n",
      "OK\n",
      "\n",
      "Found 1 file(s)\n",
      "\n",
      "GSE24548_series_matrix.txt.gz\n",
      "\n",
      "Using locally cached version: ../data/GSE24548/GSE24548_series_matrix.txt.gz\n",
      "\n",
      "Parsed with column specification:\n",
      "cols(\n",
      "  ID_REF = \u001b[31mcol_character()\u001b[39m,\n",
      "  GSM605087 = \u001b[32mcol_double()\u001b[39m,\n",
      "  GSM605088 = \u001b[32mcol_double()\u001b[39m,\n",
      "  GSM605089 = \u001b[32mcol_double()\u001b[39m,\n",
      "  GSM605090 = \u001b[32mcol_double()\u001b[39m,\n",
      "  GSM605091 = \u001b[32mcol_double()\u001b[39m,\n",
      "  GSM605092 = \u001b[32mcol_double()\u001b[39m,\n",
      "  GSM605113 = \u001b[32mcol_double()\u001b[39m\n",
      ")\n",
      "\n",
      "Using locally cached version of GPL8227 found here:\n",
      "../data/GSE24548/GPL8227.soft \n",
      "\n",
      "Warning message:\n",
      "“Duplicated column names deduplicated: 'SPOT_ID' => 'SPOT_ID_1' [6]”\n",
      "https://ftp.ncbi.nlm.nih.gov/geo/series/GSE53nnn/GSE53211/matrix/\n",
      "\n",
      "OK\n",
      "\n",
      "Found 1 file(s)\n",
      "\n",
      "GSE53211_series_matrix.txt.gz\n",
      "\n",
      "Using locally cached version: ../data/GSE53211/GSE53211_series_matrix.txt.gz\n",
      "\n",
      "Parsed with column specification:\n",
      "cols(\n",
      "  ID_REF = \u001b[31mcol_character()\u001b[39m,\n",
      "  GSM1287710 = \u001b[32mcol_double()\u001b[39m,\n",
      "  GSM1287711 = \u001b[32mcol_double()\u001b[39m,\n",
      "  GSM1287712 = \u001b[32mcol_double()\u001b[39m,\n",
      "  GSM1287713 = \u001b[32mcol_double()\u001b[39m,\n",
      "  GSM1287714 = \u001b[32mcol_double()\u001b[39m,\n",
      "  GSM1287715 = \u001b[32mcol_double()\u001b[39m,\n",
      "  GSM1287716 = \u001b[32mcol_double()\u001b[39m,\n",
      "  GSM1287717 = \u001b[32mcol_double()\u001b[39m,\n",
      "  GSM1287719 = \u001b[32mcol_double()\u001b[39m,\n",
      "  GSM1287721 = \u001b[32mcol_double()\u001b[39m,\n",
      "  GSM1287723 = \u001b[32mcol_double()\u001b[39m,\n",
      "  GSM1287724 = \u001b[32mcol_double()\u001b[39m,\n",
      "  GSM1287726 = \u001b[32mcol_double()\u001b[39m,\n",
      "  GSM1287728 = \u001b[32mcol_double()\u001b[39m,\n",
      "  GSM1287730 = \u001b[32mcol_double()\u001b[39m,\n",
      "  GSM1287731 = \u001b[32mcol_double()\u001b[39m,\n",
      "  GSM1287732 = \u001b[32mcol_double()\u001b[39m,\n",
      "  GSM1287733 = \u001b[32mcol_double()\u001b[39m\n",
      ")\n",
      "\n",
      "https://ftp.ncbi.nlm.nih.gov/geo/series/GSE53nnn/GSE53211/matrix/\n",
      "\n",
      "OK\n",
      "\n",
      "Found 1 file(s)\n",
      "\n",
      "GSE53211_series_matrix.txt.gz\n",
      "\n",
      "Using locally cached version: ../data/GSE53211/GSE53211_series_matrix.txt.gz\n",
      "\n",
      "Parsed with column specification:\n",
      "cols(\n",
      "  ID_REF = \u001b[31mcol_character()\u001b[39m,\n",
      "  GSM1287710 = \u001b[32mcol_double()\u001b[39m,\n",
      "  GSM1287711 = \u001b[32mcol_double()\u001b[39m,\n",
      "  GSM1287712 = \u001b[32mcol_double()\u001b[39m,\n",
      "  GSM1287713 = \u001b[32mcol_double()\u001b[39m,\n",
      "  GSM1287714 = \u001b[32mcol_double()\u001b[39m,\n",
      "  GSM1287715 = \u001b[32mcol_double()\u001b[39m,\n",
      "  GSM1287716 = \u001b[32mcol_double()\u001b[39m,\n",
      "  GSM1287717 = \u001b[32mcol_double()\u001b[39m,\n",
      "  GSM1287719 = \u001b[32mcol_double()\u001b[39m,\n",
      "  GSM1287721 = \u001b[32mcol_double()\u001b[39m,\n",
      "  GSM1287723 = \u001b[32mcol_double()\u001b[39m,\n",
      "  GSM1287724 = \u001b[32mcol_double()\u001b[39m,\n",
      "  GSM1287726 = \u001b[32mcol_double()\u001b[39m,\n",
      "  GSM1287728 = \u001b[32mcol_double()\u001b[39m,\n",
      "  GSM1287730 = \u001b[32mcol_double()\u001b[39m,\n",
      "  GSM1287731 = \u001b[32mcol_double()\u001b[39m,\n",
      "  GSM1287732 = \u001b[32mcol_double()\u001b[39m,\n",
      "  GSM1287733 = \u001b[32mcol_double()\u001b[39m\n",
      ")\n",
      "\n",
      "Using locally cached version of GPL18049 found here:\n",
      "../data/GSE53211/GPL18049.soft \n",
      "\n"
     ]
    },
    {
     "name": "stdout",
     "output_type": "stream",
     "text": [
      "Reading file ../data/GSE53211/GSE53211_non-normalized_data_fixed.txt ... ...\n"
     ]
    },
    {
     "name": "stderr",
     "output_type": "stream",
     "text": [
      "https://ftp.ncbi.nlm.nih.gov/geo/series/GSE61nnn/GSE61741/matrix/\n",
      "\n",
      "OK\n",
      "\n",
      "Found 1 file(s)\n",
      "\n",
      "GSE61741_series_matrix.txt.gz\n",
      "\n",
      "Using locally cached version: ../data/GSE61741/GSE61741_series_matrix.txt.gz\n",
      "\n",
      "Parsed with column specification:\n",
      "cols(\n",
      "  .default = col_double(),\n",
      "  ID_REF = \u001b[31mcol_character()\u001b[39m\n",
      ")\n",
      "\n",
      "See spec(...) for full column specifications.\n",
      "\n",
      "https://ftp.ncbi.nlm.nih.gov/geo/series/GSE61nnn/GSE61741/matrix/\n",
      "\n",
      "OK\n",
      "\n",
      "Found 1 file(s)\n",
      "\n",
      "GSE61741_series_matrix.txt.gz\n",
      "\n",
      "Using locally cached version: ../data/GSE61741/GSE61741_series_matrix.txt.gz\n",
      "\n",
      "Parsed with column specification:\n",
      "cols(\n",
      "  .default = col_double(),\n",
      "  ID_REF = \u001b[31mcol_character()\u001b[39m\n",
      ")\n",
      "\n",
      "See spec(...) for full column specifications.\n",
      "\n",
      "Using locally cached version of GPL9040 found here:\n",
      "../data/GSE61741/GPL9040.soft \n",
      "\n",
      "Warning message in readLines(path):\n",
      "“ '../data/GSE61741/GSE61741_raw_data_geo.txt' で不完全な最終行が見つかりました ”\n"
     ]
    },
    {
     "name": "stdout",
     "output_type": "stream",
     "text": [
      "Reading file ../data/GSE61741/GSE61741_raw_data_geo_fixed.txt ... ...\n",
      "Array 1 corrected\n",
      "Array 2 corrected\n",
      "Array 3 corrected\n",
      "Array 4 corrected\n",
      "Array 5 corrected\n",
      "Array 6 corrected\n",
      "Array 7 corrected\n",
      "Array 8 corrected\n",
      "Array 9 corrected\n",
      "Array 10 corrected\n",
      "Array 11 corrected\n",
      "Array 12 corrected\n",
      "Array 13 corrected\n",
      "Array 14 corrected\n",
      "Array 15 corrected\n",
      "Array 16 corrected\n",
      "Array 17 corrected\n",
      "Array 18 corrected\n",
      "Array 19 corrected\n",
      "Array 20 corrected\n",
      "Array 21 corrected\n",
      "Array 22 corrected\n",
      "Array 23 corrected\n",
      "Array 24 corrected\n",
      "Array 25 corrected\n",
      "Array 26 corrected\n",
      "Array 27 corrected\n",
      "Array 28 corrected\n",
      "Array 29 corrected\n",
      "Array 30 corrected\n",
      "Array 31 corrected\n",
      "Array 32 corrected\n",
      "Array 33 corrected\n",
      "Array 34 corrected\n",
      "Array 35 corrected\n",
      "Array 36 corrected\n",
      "Array 37 corrected\n",
      "Array 38 corrected\n",
      "Array 39 corrected\n",
      "Array 40 corrected\n",
      "Array 41 corrected\n",
      "Array 42 corrected\n",
      "Array 43 corrected\n",
      "Array 44 corrected\n",
      "Array 45 corrected\n",
      "Array 46 corrected\n",
      "Array 47 corrected\n",
      "Array 48 corrected\n",
      "Array 49 corrected\n",
      "Array 50 corrected\n",
      "Array 51 corrected\n",
      "Array 52 corrected\n",
      "Array 53 corrected\n",
      "Array 54 corrected\n",
      "Array 55 corrected\n",
      "Array 56 corrected\n",
      "Array 57 corrected\n",
      "Array 58 corrected\n",
      "Array 59 corrected\n",
      "Array 60 corrected\n",
      "Array 61 corrected\n",
      "Array 62 corrected\n",
      "Array 63 corrected\n",
      "Array 64"
     ]
    },
    {
     "name": "stderr",
     "output_type": "stream",
     "text": [
      "Warning message in normexp.signal(out$par, x):\n",
      "“Limit of numerical accuracy reached with very low intensity or very high background:\n",
      "setting adjusted intensities to small value”\n"
     ]
    },
    {
     "name": "stdout",
     "output_type": "stream",
     "text": [
      " corrected\n",
      "Array 65 corrected\n",
      "Array 66 corrected\n",
      "Array 67 corrected\n",
      "Array 68 corrected\n",
      "Array 69 corrected\n",
      "Array 70 corrected\n",
      "Array 71 corrected\n",
      "Array 72 corrected\n",
      "Array 73 corrected\n",
      "Array 74 corrected\n",
      "Array 75 corrected\n",
      "Array 76 corrected\n",
      "Array 77 corrected\n",
      "Array 78 corrected\n",
      "Array 79"
     ]
    },
    {
     "name": "stderr",
     "output_type": "stream",
     "text": [
      "Couldn't load raw Agilent data for: GSE24548\n",
      "\n",
      "Couldn't load raw Illumina data for: GSE53211, GSE61741\n",
      "\n"
     ]
    }
   ],
   "source": [
    "# Loads and annotates raw data previously downloaded with get_raw\n",
    "esets_miRNAs <- load_raw(gse_names=gse_names_miRNAs, data_dir=data_dir)"
   ]
  },
  {
   "cell_type": "code",
   "execution_count": 15,
   "metadata": {},
   "outputs": [
    {
     "name": "stdout",
     "output_type": "stream",
     "text": [
      "[1] \"GSE34918\" \"GSE62646\" \"GSE60993\" \"GSE61144\"\n",
      "[1] \"GSE24548\" \"GSE53211\" \"GSE61741\"\n"
     ]
    }
   ],
   "source": [
    "print(gse_names_mRNAs)\n",
    "print(gse_names_miRNAs)"
   ]
  },
  {
   "cell_type": "code",
   "execution_count": 14,
   "metadata": {},
   "outputs": [
    {
     "data": {
      "text/plain": [
       "NULL"
      ]
     },
     "metadata": {},
     "output_type": "display_data"
    }
   ],
   "source": [
    "esets_miRNAs"
   ]
  },
  {
   "cell_type": "markdown",
   "metadata": {},
   "source": [
    "```R\n",
    "library(crossmeta)\n",
    "library(affy)\n",
    "\n",
    "gpl_dir <-'..'\n",
    "overwrite <- FALSE\n",
    "ensql <- NULL\n",
    "\n",
    "affy_names  <- c()\n",
    "agil_names  <- c()\n",
    "illum_names <- c()\n",
    "\n",
    "gse_name <- \"GSE61741\"\n",
    "data_dir <- \"../data/\"\n",
    "gse_dir   <- file.path(data_dir, gse_name)\n",
    "save_name <- paste(gse_name, \"eset.rds\", sep = \"_\")\n",
    "eset_path <- list.files(gse_dir, save_name, full.names = TRUE)\n",
    "affy  <- list.files(gse_dir, \".CEL$\", ignore.case = TRUE)\n",
    "agil  <- list.files(gse_dir, \"^GSM.*txt$\", ignore.case = TRUE)\n",
    "illum <- list.files(gse_dir, \"non.*norm.*txt$|raw.*txt$|nonorm.*txt$\", ignore.case = TRUE)\n",
    "\n",
    "# print functions\n",
    "print(affy)\n",
    "print(agil)\n",
    "print(illum)\n",
    "\n",
    "if (length(affy) != 0) {\n",
    "    affy_names  <- c(affy_names, gse_name)\n",
    "} else if (length(illum) != 0) {\n",
    "    illum_names <- c(illum_names, gse_name)\n",
    "} else if  (length(agil) != 0) {\n",
    "    agil_names  <- c(agil_names, gse_name)\n",
    "\n",
    "}  else {\n",
    "    errors <- c(errors, gse_name)\n",
    "}\n",
    "```"
   ]
  },
  {
   "cell_type": "markdown",
   "metadata": {},
   "source": [
    "### Reference:\n",
    "\n",
    "- [Cross-Platform Meta Analysis](http://bioconductor.riken.jp/packages/3.8/bioc/vignettes/crossmeta/inst/doc/crossmeta-vignette.html)"
   ]
  },
  {
   "cell_type": "code",
   "execution_count": null,
   "metadata": {},
   "outputs": [],
   "source": []
  }
 ],
 "metadata": {
  "hide_input": false,
  "kernelspec": {
   "display_name": "R",
   "language": "R",
   "name": "ir"
  },
  "language_info": {
   "codemirror_mode": "r",
   "file_extension": ".r",
   "mimetype": "text/x-r-source",
   "name": "R",
   "pygments_lexer": "r",
   "version": "3.6.3"
  }
 },
 "nbformat": 4,
 "nbformat_minor": 2
}
