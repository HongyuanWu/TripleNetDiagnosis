{
 "cells": [
  {
   "cell_type": "markdown",
   "metadata": {},
   "source": [
    "## GenePix data"
   ]
  },
  {
   "cell_type": "markdown",
   "metadata": {},
   "source": [
    "Preprocessing (`.gpr` file) [[link]](http://www.bioconductor.org/packages/release/bioc/vignettes/limma/inst/doc/usersguide.pdf)"
   ]
  },
  {
   "cell_type": "markdown",
   "metadata": {},
   "source": [
    "We assume that the images have been analyzed using GenePix to produce a `.gpr` file for each array."
   ]
  },
  {
   "cell_type": "code",
   "execution_count": 1,
   "metadata": {},
   "outputs": [],
   "source": [
    "library(limma)"
   ]
  },
  {
   "cell_type": "code",
   "execution_count": 2,
   "metadata": {},
   "outputs": [],
   "source": [
    "basedir <- \"../data/GSE53675/\"\n",
    "setwd(basedir)"
   ]
  },
  {
   "cell_type": "code",
   "execution_count": 3,
   "metadata": {},
   "outputs": [],
   "source": [
    "targets <- list.files(pattern = \".gpr\")"
   ]
  },
  {
   "cell_type": "code",
   "execution_count": 4,
   "metadata": {},
   "outputs": [
    {
     "data": {
      "text/html": [
       "<style>\n",
       ".list-inline {list-style: none; margin:0; padding: 0}\n",
       ".list-inline>li {display: inline-block}\n",
       ".list-inline>li:not(:last-child)::after {content: \"\\00b7\"; padding: 0 .5ex}\n",
       "</style>\n",
       "<ol class=list-inline><li>'GSM1298741_1.gpr'</li><li>'GSM1298742_9.gpr'</li><li>'GSM1298743_10.gpr'</li><li>'GSM1298744_12.gpr'</li><li>'GSM1298745_14.gpr'</li><li>'GSM1298746_15.gpr'</li><li>'GSM1298747_17.gpr'</li><li>'GSM1298748_22.gpr'</li><li>'GSM1298749_26.gpr'</li><li>'GSM1298750_31.gpr'</li><li>'GSM1298751_33.gpr'</li><li>'GSM1298752_36.gpr'</li><li>'GSM1298753_37.gpr'</li><li>'GSM1298754_C_4.gpr'</li><li>'GSM1298755_C_5.gpr'</li><li>'GSM1298756_C_6.gpr'</li><li>'GSM1298757_C_7.gpr'</li><li>'GSM1298758_C_8.gpr'</li></ol>\n"
      ],
      "text/latex": [
       "\\begin{enumerate*}\n",
       "\\item 'GSM1298741\\_1.gpr'\n",
       "\\item 'GSM1298742\\_9.gpr'\n",
       "\\item 'GSM1298743\\_10.gpr'\n",
       "\\item 'GSM1298744\\_12.gpr'\n",
       "\\item 'GSM1298745\\_14.gpr'\n",
       "\\item 'GSM1298746\\_15.gpr'\n",
       "\\item 'GSM1298747\\_17.gpr'\n",
       "\\item 'GSM1298748\\_22.gpr'\n",
       "\\item 'GSM1298749\\_26.gpr'\n",
       "\\item 'GSM1298750\\_31.gpr'\n",
       "\\item 'GSM1298751\\_33.gpr'\n",
       "\\item 'GSM1298752\\_36.gpr'\n",
       "\\item 'GSM1298753\\_37.gpr'\n",
       "\\item 'GSM1298754\\_C\\_4.gpr'\n",
       "\\item 'GSM1298755\\_C\\_5.gpr'\n",
       "\\item 'GSM1298756\\_C\\_6.gpr'\n",
       "\\item 'GSM1298757\\_C\\_7.gpr'\n",
       "\\item 'GSM1298758\\_C\\_8.gpr'\n",
       "\\end{enumerate*}\n"
      ],
      "text/markdown": [
       "1. 'GSM1298741_1.gpr'\n",
       "2. 'GSM1298742_9.gpr'\n",
       "3. 'GSM1298743_10.gpr'\n",
       "4. 'GSM1298744_12.gpr'\n",
       "5. 'GSM1298745_14.gpr'\n",
       "6. 'GSM1298746_15.gpr'\n",
       "7. 'GSM1298747_17.gpr'\n",
       "8. 'GSM1298748_22.gpr'\n",
       "9. 'GSM1298749_26.gpr'\n",
       "10. 'GSM1298750_31.gpr'\n",
       "11. 'GSM1298751_33.gpr'\n",
       "12. 'GSM1298752_36.gpr'\n",
       "13. 'GSM1298753_37.gpr'\n",
       "14. 'GSM1298754_C_4.gpr'\n",
       "15. 'GSM1298755_C_5.gpr'\n",
       "16. 'GSM1298756_C_6.gpr'\n",
       "17. 'GSM1298757_C_7.gpr'\n",
       "18. 'GSM1298758_C_8.gpr'\n",
       "\n",
       "\n"
      ],
      "text/plain": [
       " [1] \"GSM1298741_1.gpr\"   \"GSM1298742_9.gpr\"   \"GSM1298743_10.gpr\" \n",
       " [4] \"GSM1298744_12.gpr\"  \"GSM1298745_14.gpr\"  \"GSM1298746_15.gpr\" \n",
       " [7] \"GSM1298747_17.gpr\"  \"GSM1298748_22.gpr\"  \"GSM1298749_26.gpr\" \n",
       "[10] \"GSM1298750_31.gpr\"  \"GSM1298751_33.gpr\"  \"GSM1298752_36.gpr\" \n",
       "[13] \"GSM1298753_37.gpr\"  \"GSM1298754_C_4.gpr\" \"GSM1298755_C_5.gpr\"\n",
       "[16] \"GSM1298756_C_6.gpr\" \"GSM1298757_C_7.gpr\" \"GSM1298758_C_8.gpr\""
      ]
     },
     "metadata": {},
     "output_type": "display_data"
    }
   ],
   "source": [
    "targets"
   ]
  },
  {
   "cell_type": "code",
   "execution_count": 5,
   "metadata": {},
   "outputs": [],
   "source": [
    "# Set up a filter so that any spot with a flag of −99 or less gets zero weight.\n",
    "f <- function(x) as.numeric(x$Flags > -99)"
   ]
  },
  {
   "cell_type": "code",
   "execution_count": 6,
   "metadata": {},
   "outputs": [
    {
     "name": "stdout",
     "output_type": "stream",
     "text": [
      "Read GSM1298741_1.gpr \n",
      "Read GSM1298742_9.gpr \n",
      "Read GSM1298743_10.gpr \n",
      "Read GSM1298744_12.gpr \n",
      "Read GSM1298745_14.gpr \n",
      "Read GSM1298746_15.gpr \n",
      "Read GSM1298747_17.gpr \n",
      "Read GSM1298748_22.gpr \n",
      "Read GSM1298749_26.gpr \n",
      "Read GSM1298750_31.gpr \n",
      "Read GSM1298751_33.gpr \n",
      "Read GSM1298752_36.gpr \n",
      "Read GSM1298753_37.gpr \n",
      "Read GSM1298754_C_4.gpr \n",
      "Read GSM1298755_C_5.gpr \n",
      "Read GSM1298756_C_6.gpr \n",
      "Read GSM1298757_C_7.gpr \n",
      "Read GSM1298758_C_8.gpr \n"
     ]
    }
   ],
   "source": [
    "# Read in the data.\n",
    "RG <- read.maimages(targets, source=\"genepix\", wt.fun=f)"
   ]
  },
  {
   "cell_type": "code",
   "execution_count": 7,
   "metadata": {},
   "outputs": [
    {
     "name": "stdout",
     "output_type": "stream",
     "text": [
      "Array 1 corrected\n",
      "Array 2 corrected\n",
      "Array 3 corrected\n",
      "Array 4 corrected\n",
      "Array 5 corrected\n",
      "Array 6 corrected\n",
      "Array 7 corrected\n",
      "Array 8 corrected\n",
      "Array 9 corrected\n",
      "Array 10 corrected\n",
      "Array 11 corrected\n",
      "Array 12 corrected\n",
      "Array 13 corrected\n",
      "Array 14 corrected\n",
      "Array 15 corrected\n",
      "Array 16 corrected\n",
      "Array 17 corrected\n",
      "Array 18 corrected\n",
      "Array 1 corrected\n",
      "Array 2 corrected\n",
      "Array 3 corrected\n",
      "Array 4 corrected\n",
      "Array 5 corrected\n",
      "Array 6 corrected\n",
      "Array 7 corrected\n",
      "Array 8 corrected\n",
      "Array 9 corrected\n",
      "Array 10 corrected\n",
      "Array 11 corrected\n",
      "Array 12 corrected\n",
      "Array 13 corrected\n",
      "Array 14 corrected\n",
      "Array 15 corrected\n",
      "Array 16 corrected\n",
      "Array 17 corrected\n",
      "Array 18 corrected\n"
     ]
    }
   ],
   "source": [
    "# The following command implements a type of adaptive background correction. This is optional but recommended for GenePix data.\n",
    "RG <- backgroundCorrect(RG, method=\"normexp\", offset=50)"
   ]
  },
  {
   "cell_type": "code",
   "execution_count": 8,
   "metadata": {},
   "outputs": [],
   "source": [
    "# Print-tip loess normalization:\n",
    "MA <- normalizeWithinArrays(RG)"
   ]
  },
  {
   "cell_type": "code",
   "execution_count": 16,
   "metadata": {
    "scrolled": true
   },
   "outputs": [
    {
     "ename": "ERROR",
     "evalue": "Error in lmFit(MA, design = c(-1, 1, -1, 1, 1)): row dimension of design doesn't match column dimension of data object\n",
     "output_type": "error",
     "traceback": [
      "Error in lmFit(MA, design = c(-1, 1, -1, 1, 1)): row dimension of design doesn't match column dimension of data object\nTraceback:\n",
      "1. lmFit(MA, design = c(-1, 1, -1, 1, 1))",
      "2. stop(\"row dimension of design doesn't match column dimension of data object\")"
     ]
    }
   ],
   "source": [
    "# Estimate the fold changes and standard errors by fitting a linear model for each gene. The design matrix indicates which arrays are dye-swaps.\n",
    "fit <- lmFit(MA, design=c(-1,1,-1,1,1))"
   ]
  },
  {
   "cell_type": "code",
   "execution_count": 19,
   "metadata": {},
   "outputs": [
    {
     "data": {
      "text/html": [
       "<style>\n",
       ".list-inline {list-style: none; margin:0; padding: 0}\n",
       ".list-inline>li {display: inline-block}\n",
       ".list-inline>li:not(:last-child)::after {content: \"\\00b7\"; padding: 0 .5ex}\n",
       "</style>\n",
       "<ol class=list-inline><li>12312</li><li>18</li></ol>\n"
      ],
      "text/latex": [
       "\\begin{enumerate*}\n",
       "\\item 12312\n",
       "\\item 18\n",
       "\\end{enumerate*}\n"
      ],
      "text/markdown": [
       "1. 12312\n",
       "2. 18\n",
       "\n",
       "\n"
      ],
      "text/plain": [
       "[1] 12312    18"
      ]
     },
     "metadata": {},
     "output_type": "display_data"
    }
   ],
   "source": [
    "dim(MA)"
   ]
  },
  {
   "cell_type": "code",
   "execution_count": null,
   "metadata": {},
   "outputs": [],
   "source": []
  }
 ],
 "metadata": {
  "hide_input": false,
  "kernelspec": {
   "display_name": "R",
   "language": "R",
   "name": "ir"
  },
  "language_info": {
   "codemirror_mode": "r",
   "file_extension": ".r",
   "mimetype": "text/x-r-source",
   "name": "R",
   "pygments_lexer": "r",
   "version": "3.6.3"
  }
 },
 "nbformat": 4,
 "nbformat_minor": 2
}
