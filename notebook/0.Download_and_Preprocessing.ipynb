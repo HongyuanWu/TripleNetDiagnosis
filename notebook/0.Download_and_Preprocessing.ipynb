{
 "cells": [
  {
   "cell_type": "markdown",
   "metadata": {},
   "source": [
    "# Download & Preprocessing"
   ]
  },
  {
   "cell_type": "markdown",
   "metadata": {},
   "source": [
    "## 1.Obtaining Raw Data"
   ]
  },
  {
   "cell_type": "markdown",
   "metadata": {},
   "source": [
    "Search [GEO](https://www.ncbi.nlm.nih.gov/geo/) to find relevant microarray data <b>(in this case, Seven CAD-related microarray datasets)</b> for the meta-analysis."
   ]
  },
  {
   "cell_type": "markdown",
   "metadata": {},
   "source": [
    "#### `crossmeta`\n",
    "\n",
    "> `crossmeta` streamlines the cross-platform effect size and pathway meta-analysis of microarray data. For the analysis, you will need a list of Affymetrix, Illumina, and/or Agilent GSE numbers from [GEO](https://www.ncbi.nlm.nih.gov/geo/). All 21 species in the current [homologene](http://1.usa.gov/1TGoIy7) build are supported.\n",
    "\n",
    "[Bioconductor - crossmeta](https://www.bioconductor.org/packages/release/bioc/html/crossmeta.html)"
   ]
  },
  {
   "cell_type": "code",
   "execution_count": 1,
   "metadata": {},
   "outputs": [],
   "source": [
    "# if (!requireNamespace(\"BiocManager\", quietly = TRUE))\n",
    "#     install.packages(\"BiocManager\")\n",
    "\n",
    "# BiocManager::install(\"crossmeta\")"
   ]
  },
  {
   "cell_type": "code",
   "execution_count": 2,
   "metadata": {},
   "outputs": [],
   "source": [
    "data_dir <- \"../data/\""
   ]
  },
  {
   "cell_type": "code",
   "execution_count": 3,
   "metadata": {},
   "outputs": [],
   "source": [
    "library(crossmeta)"
   ]
  },
  {
   "cell_type": "code",
   "execution_count": 4,
   "metadata": {},
   "outputs": [],
   "source": [
    "# gather all GSEs\n",
    "gse_names_mRNAs  <- c(\n",
    "    \"GSE34918\", \n",
    "    \"GSE62646\", \n",
    "    \"GSE60993\", \n",
    "    \"GSE61144\"\n",
    ")\n",
    "gse_names_miRNAs  <- c(\n",
    "    \"GSE24548\", \n",
    "    \"GSE53211\", \n",
    "    \"GSE53675\"\n",
    ")"
   ]
  },
  {
   "cell_type": "code",
   "execution_count": 5,
   "metadata": {},
   "outputs": [
    {
     "name": "stdout",
     "output_type": "stream",
     "text": [
      "[1] \"GSE34918\" \"GSE62646\" \"GSE60993\" \"GSE61144\"\n",
      "[1] \"GSE24548\" \"GSE53211\" \"GSE53675\"\n"
     ]
    }
   ],
   "source": [
    "print(gse_names_mRNAs)\n",
    "print(gse_names_miRNAs)"
   ]
  },
  {
   "cell_type": "code",
   "execution_count": 6,
   "metadata": {},
   "outputs": [],
   "source": [
    "# Download raw data to `data_dir` directory.\n",
    "# get_raw(gse_names=gse_names, data_dir=data_dir)"
   ]
  },
  {
   "cell_type": "markdown",
   "metadata": {},
   "source": [
    "<details>\n",
    "    <summary>Logs</summary>\n",
    "    \n",
    "```R\n",
    "Setting options('download.file.method.GEOquery'='auto')\n",
    "Setting options('GEOquery.inmemory.gpl'=FALSE)\n",
    " URL 'https://ftp.ncbi.nlm.nih.gov/geo/series/GSE34nnn/GSE34918/suppl//GSE34918_RAW.tar?tool=geoquery' を試しています\n",
    "Content type 'application/x-tar' length 27443200 bytes (26.2 MB)\n",
    "==================================================\n",
    "downloaded 26.2 MB\n",
    "\n",
    " URL 'https://ftp.ncbi.nlm.nih.gov/geo/series/GSE34nnn/GSE34918/suppl//GSE34918_non-normalized.txt.gz?tool=geoquery' を試しています\n",
    "Content type 'application/x-gzip' length 1663173 bytes (1.6 MB)\n",
    "==================================================\n",
    "downloaded 1.6 MB\n",
    "\n",
    " URL 'https://ftp.ncbi.nlm.nih.gov/geo/series/GSE62nnn/GSE62646/suppl//GSE62646_RAW.tar?tool=geoquery' を試しています\n",
    "Content type 'application/x-tar' length 433612800 bytes (413.5 MB)\n",
    "==================================================\n",
    "downloaded 413.5 MB\n",
    "\n",
    " URL 'https://ftp.ncbi.nlm.nih.gov/geo/series/GSE60nnn/GSE60993/suppl//GSE60993_RAW.tar?tool=geoquery' を試しています\n",
    "Content type 'application/x-tar' length 6584320 bytes (6.3 MB)\n",
    "==================================================\n",
    "downloaded 6.3 MB\n",
    "\n",
    " URL 'https://ftp.ncbi.nlm.nih.gov/geo/series/GSE60nnn/GSE60993/suppl//GSE60993_non-normalized.txt.gz?tool=geoquery' を試しています\n",
    "Content type 'application/x-gzip' length 10962907 bytes (10.5 MB)\n",
    "==================================================\n",
    "downloaded 10.5 MB\n",
    "\n",
    " URL 'https://ftp.ncbi.nlm.nih.gov/geo/series/GSE61nnn/GSE61144/suppl//GSE61144_non_normalized.txt.gz?tool=geoquery' を試しています\n",
    "Content type 'application/x-gzip' length 8457250 bytes (8.1 MB)\n",
    "==================================================\n",
    "downloaded 8.1 MB\n",
    "\n",
    " URL 'https://ftp.ncbi.nlm.nih.gov/geo/series/GSE24nnn/GSE24548/suppl//GSE24548_RAW.tar?tool=geoquery' を試しています\n",
    "Content type 'application/x-tar' length 419840 bytes (410 KB)\n",
    "==================================================\n",
    "downloaded 410 KB\n",
    "\n",
    " URL 'https://ftp.ncbi.nlm.nih.gov/geo/series/GSE53nnn/GSE53211/suppl//GSE53211_average.txt.gz?tool=geoquery' を試しています\n",
    "Content type 'application/x-gzip' length 7820 bytes\n",
    "==================================================\n",
    "downloaded 7820 bytes\n",
    "\n",
    " URL 'https://ftp.ncbi.nlm.nih.gov/geo/series/GSE53nnn/GSE53211/suppl//GSE53211_difference.txt.gz?tool=geoquery' を試しています\n",
    "Content type 'application/x-gzip' length 5842 bytes\n",
    "==================================================\n",
    "downloaded 5842 bytes\n",
    "\n",
    " URL 'https://ftp.ncbi.nlm.nih.gov/geo/series/GSE53nnn/GSE53211/suppl//GSE53211_fold_change.txt.gz?tool=geoquery' を試しています\n",
    "Content type 'application/x-gzip' length 5834 bytes\n",
    "==================================================\n",
    "downloaded 5834 bytes\n",
    "\n",
    " URL 'https://ftp.ncbi.nlm.nih.gov/geo/series/GSE53nnn/GSE53211/suppl//GSE53211_non-normalized_data.txt.gz?tool=geoquery' を試しています\n",
    "Content type 'application/x-gzip' length 23721 bytes (23 KB)\n",
    "==================================================\n",
    "downloaded 23 KB\n",
    "\n",
    " URL 'https://ftp.ncbi.nlm.nih.gov/geo/series/GSE53nnn/GSE53675/suppl//GSE53675_RAW.tar?tool=geoquery' を試しています\n",
    "Content type 'application/x-tar' length 14458880 bytes (13.8 MB)\n",
    "==================================================\n",
    "downloaded 13.8 MB\n",
    "\n",
    "```    \n",
    "    \n",
    "</details>"
   ]
  },
  {
   "cell_type": "markdown",
   "metadata": {},
   "source": [
    "## 2.Checking Raw Illumina Data"
   ]
  },
  {
   "cell_type": "markdown",
   "metadata": {},
   "source": [
    "It is difficult to automate loading raw Illumina data files because they lack a standardized format. `crossmeta` will attempt to fix the headers of raw Illumina data files so that they can be loaded. <b>If `crossmeta` fails, you will have to edit the headers of the raw Illumina data files yourself or omit the offending studies.</b>\n",
    "\n",
    "To edit raw Illumina data headers, I recommend that you download and set [Sublime Text 2](https://www.sublimetext.com/2) as your default text editor. It has very nice regular expression capabilities. [Here](https://cheatography.com/davechild/cheat-sheets/regular-expressions/) is a good regular expression cheat-sheat.\n",
    "\n",
    "Raw illumina files will be in `data_dir` in a seperate folder for each GSE. They are usually `.txt` files and include non-normalized in their name. Ensure the following:\n",
    "\n",
    "- <b>Detection p-values</b>: present (usually every second column)\n",
    "- <b>File format</b>: tab seperated .txt file\n",
    "- <b>File name</b>: includes non-normalized\n",
    "\n",
    "Also ensure that column names have the following format:\n",
    "\n",
    "- <b>Probe ID</b>: ID_REF\n",
    "- <b>Expression values</b>: AVG_Signal-sample_name\n",
    "- <b>Detection p-values</b>: Detection-sample_name\n",
    "\n",
    "To open these files one at a time with your default text editor:\n",
    "\n",
    "```R\n",
    "# this is why we gathered Illumina GSEs\n",
    "open_raw_illum(illum_names, data_dir)\n",
    "```"
   ]
  },
  {
   "cell_type": "code",
   "execution_count": 7,
   "metadata": {},
   "outputs": [],
   "source": [
    "# open_raw_illum(illum_names)"
   ]
  },
  {
   "cell_type": "code",
   "execution_count": 8,
   "metadata": {},
   "outputs": [],
   "source": [
    "# library(lydata)\n",
    "\n",
    "# # location of raw data\n",
    "# data_dir <- system.file(\"extdata\", package = \"lydata\")"
   ]
  },
  {
   "cell_type": "markdown",
   "metadata": {},
   "source": [
    "## 3.Loading and Annotating Data"
   ]
  },
  {
   "cell_type": "markdown",
   "metadata": {},
   "source": [
    "After downloading the raw data, <b>it must be loaded and annotated.</b> The necessary bioconductor annotation data packages will be downloaded as needed."
   ]
  },
  {
   "cell_type": "code",
   "execution_count": 9,
   "metadata": {
    "scrolled": true
   },
   "outputs": [],
   "source": [
    "# Loads and annotates raw data previously downloaded with get_raw\n",
    "esets_mRNAs  <- load_raw(gse_names=gse_names_mRNAs,  data_dir=data_dir)"
   ]
  },
  {
   "cell_type": "code",
   "execution_count": 11,
   "metadata": {},
   "outputs": [
    {
     "data": {
      "text/plain": [
       "$GSE34918\n",
       "ExpressionSet (storageMode: lockedEnvironment)\n",
       "assayData: 50605 features, 5 samples \n",
       "  element names: exprs \n",
       "protocolData: none\n",
       "phenoData\n",
       "  sampleNames: GSM857496 GSM857497 ... GSM857500 (5 total)\n",
       "  varLabels: title geo_accession ... title.raw (41 total)\n",
       "  varMetadata: labelDescription\n",
       "featureData\n",
       "  featureNames: ILMN_1343291 ILMN_1343295 ... ILMN_3311190 (50605\n",
       "    total)\n",
       "  fvarLabels: ENTREZID PROBE ... SYMBOL (5 total)\n",
       "  fvarMetadata: labelDescription\n",
       "experimentData: use 'experimentData(object)'\n",
       "Annotation: GPL10558 \n",
       "\n",
       "$GSE62646\n",
       "ExpressionSet (storageMode: lockedEnvironment)\n",
       "assayData: 40470 features, 98 samples \n",
       "  element names: exprs \n",
       "protocolData: none\n",
       "phenoData\n",
       "  sampleNames: GSM1530765 GSM1530766 ... GSM1530862 (98 total)\n",
       "  varLabels: title geo_accession ... scan_date (39 total)\n",
       "  varMetadata: labelDescription\n",
       "featureData\n",
       "  featureNames: 7896740 8023937 ... 8105991.9 (40470 total)\n",
       "  fvarLabels: ID GB_LIST ... ENTREZID_HS (16 total)\n",
       "  fvarMetadata: Column Description labelDescription\n",
       "experimentData: use 'experimentData(object)'\n",
       "Annotation: GPL6244 \n",
       "\n",
       "$GSE60993\n",
       "ExpressionSet (storageMode: lockedEnvironment)\n",
       "assayData: 50954 features, 33 samples \n",
       "  element names: exprs, pvals \n",
       "protocolData: none\n",
       "phenoData\n",
       "  sampleNames: GSM1495313 GSM1495314 ... GSM1495345 (33 total)\n",
       "  varLabels: title geo_accession ... title.raw (34 total)\n",
       "  varMetadata: labelDescription\n",
       "featureData\n",
       "  featureNames: ILMN_1762337 ILMN_1883785 ... ILMN_2166812.1 (50954\n",
       "    total)\n",
       "  fvarLabels: ID Species ... ENTREZID_HS (32 total)\n",
       "  fvarMetadata: Column Description labelDescription\n",
       "experimentData: use 'experimentData(object)'\n",
       "Annotation: GPL6884 \n",
       "\n",
       "$GSE61144\n",
       "ExpressionSet (storageMode: lockedEnvironment)\n",
       "assayData: 48687 features, 24 samples \n",
       "  element names: exprs \n",
       "protocolData: none\n",
       "phenoData\n",
       "  sampleNames: GSM1498369 GSM1498370 ... GSM1498392 (24 total)\n",
       "  varLabels: title geo_accession ... title.raw (42 total)\n",
       "  varMetadata: labelDescription\n",
       "featureData\n",
       "  featureNames: ILMN_10000 ILMN_100000 ... ILMN_99996 (48687 total)\n",
       "  fvarLabels: ENTREZID PROBE ... SYMBOL (5 total)\n",
       "  fvarMetadata: labelDescription\n",
       "experimentData: use 'experimentData(object)'\n",
       "Annotation: GPL6106 \n"
      ]
     },
     "metadata": {},
     "output_type": "display_data"
    }
   ],
   "source": [
    "esets_mRNAs"
   ]
  },
  {
   "cell_type": "code",
   "execution_count": 10,
   "metadata": {
    "scrolled": false
   },
   "outputs": [
    {
     "name": "stderr",
     "output_type": "stream",
     "text": [
      "https://ftp.ncbi.nlm.nih.gov/geo/series/GSE24nnn/GSE24548/matrix/\n",
      "\n",
      "OK\n",
      "\n",
      "Found 1 file(s)\n",
      "\n",
      "GSE24548_series_matrix.txt.gz\n",
      "\n",
      "Using locally cached version: ../data//GSE24548/GSE24548_series_matrix.txt.gz\n",
      "\n",
      "Setting options('download.file.method.GEOquery'='auto')\n",
      "\n",
      "Setting options('GEOquery.inmemory.gpl'=FALSE)\n",
      "\n",
      "Parsed with column specification:\n",
      "cols(\n",
      "  ID_REF = \u001b[31mcol_character()\u001b[39m,\n",
      "  GSM605087 = \u001b[32mcol_double()\u001b[39m,\n",
      "  GSM605088 = \u001b[32mcol_double()\u001b[39m,\n",
      "  GSM605089 = \u001b[32mcol_double()\u001b[39m,\n",
      "  GSM605090 = \u001b[32mcol_double()\u001b[39m,\n",
      "  GSM605091 = \u001b[32mcol_double()\u001b[39m,\n",
      "  GSM605092 = \u001b[32mcol_double()\u001b[39m,\n",
      "  GSM605113 = \u001b[32mcol_double()\u001b[39m\n",
      ")\n",
      "\n",
      "https://ftp.ncbi.nlm.nih.gov/geo/series/GSE24nnn/GSE24548/matrix/\n",
      "\n",
      "OK\n",
      "\n",
      "Found 1 file(s)\n",
      "\n",
      "GSE24548_series_matrix.txt.gz\n",
      "\n",
      "Using locally cached version: ../data//GSE24548/GSE24548_series_matrix.txt.gz\n",
      "\n",
      "Parsed with column specification:\n",
      "cols(\n",
      "  ID_REF = \u001b[31mcol_character()\u001b[39m,\n",
      "  GSM605087 = \u001b[32mcol_double()\u001b[39m,\n",
      "  GSM605088 = \u001b[32mcol_double()\u001b[39m,\n",
      "  GSM605089 = \u001b[32mcol_double()\u001b[39m,\n",
      "  GSM605090 = \u001b[32mcol_double()\u001b[39m,\n",
      "  GSM605091 = \u001b[32mcol_double()\u001b[39m,\n",
      "  GSM605092 = \u001b[32mcol_double()\u001b[39m,\n",
      "  GSM605113 = \u001b[32mcol_double()\u001b[39m\n",
      ")\n",
      "\n",
      "Using locally cached version of GPL8227 found here:\n",
      "../data//GSE24548/GPL8227.soft \n",
      "\n",
      "Warning message:\n",
      "“Duplicated column names deduplicated: 'SPOT_ID' => 'SPOT_ID_1' [6]”\n",
      "https://ftp.ncbi.nlm.nih.gov/geo/series/GSE53nnn/GSE53211/matrix/\n",
      "\n",
      "OK\n",
      "\n",
      "Found 1 file(s)\n",
      "\n",
      "GSE53211_series_matrix.txt.gz\n",
      "\n",
      "Using locally cached version: ../data//GSE53211/GSE53211_series_matrix.txt.gz\n",
      "\n",
      "Parsed with column specification:\n",
      "cols(\n",
      "  ID_REF = \u001b[31mcol_character()\u001b[39m,\n",
      "  GSM1287710 = \u001b[32mcol_double()\u001b[39m,\n",
      "  GSM1287711 = \u001b[32mcol_double()\u001b[39m,\n",
      "  GSM1287712 = \u001b[32mcol_double()\u001b[39m,\n",
      "  GSM1287713 = \u001b[32mcol_double()\u001b[39m,\n",
      "  GSM1287714 = \u001b[32mcol_double()\u001b[39m,\n",
      "  GSM1287715 = \u001b[32mcol_double()\u001b[39m,\n",
      "  GSM1287716 = \u001b[32mcol_double()\u001b[39m,\n",
      "  GSM1287717 = \u001b[32mcol_double()\u001b[39m,\n",
      "  GSM1287719 = \u001b[32mcol_double()\u001b[39m,\n",
      "  GSM1287721 = \u001b[32mcol_double()\u001b[39m,\n",
      "  GSM1287723 = \u001b[32mcol_double()\u001b[39m,\n",
      "  GSM1287724 = \u001b[32mcol_double()\u001b[39m,\n",
      "  GSM1287726 = \u001b[32mcol_double()\u001b[39m,\n",
      "  GSM1287728 = \u001b[32mcol_double()\u001b[39m,\n",
      "  GSM1287730 = \u001b[32mcol_double()\u001b[39m,\n",
      "  GSM1287731 = \u001b[32mcol_double()\u001b[39m,\n",
      "  GSM1287732 = \u001b[32mcol_double()\u001b[39m,\n",
      "  GSM1287733 = \u001b[32mcol_double()\u001b[39m\n",
      ")\n",
      "\n",
      "https://ftp.ncbi.nlm.nih.gov/geo/series/GSE53nnn/GSE53211/matrix/\n",
      "\n",
      "OK\n",
      "\n",
      "Found 1 file(s)\n",
      "\n",
      "GSE53211_series_matrix.txt.gz\n",
      "\n",
      "Using locally cached version: ../data//GSE53211/GSE53211_series_matrix.txt.gz\n",
      "\n",
      "Parsed with column specification:\n",
      "cols(\n",
      "  ID_REF = \u001b[31mcol_character()\u001b[39m,\n",
      "  GSM1287710 = \u001b[32mcol_double()\u001b[39m,\n",
      "  GSM1287711 = \u001b[32mcol_double()\u001b[39m,\n",
      "  GSM1287712 = \u001b[32mcol_double()\u001b[39m,\n",
      "  GSM1287713 = \u001b[32mcol_double()\u001b[39m,\n",
      "  GSM1287714 = \u001b[32mcol_double()\u001b[39m,\n",
      "  GSM1287715 = \u001b[32mcol_double()\u001b[39m,\n",
      "  GSM1287716 = \u001b[32mcol_double()\u001b[39m,\n",
      "  GSM1287717 = \u001b[32mcol_double()\u001b[39m,\n",
      "  GSM1287719 = \u001b[32mcol_double()\u001b[39m,\n",
      "  GSM1287721 = \u001b[32mcol_double()\u001b[39m,\n",
      "  GSM1287723 = \u001b[32mcol_double()\u001b[39m,\n",
      "  GSM1287724 = \u001b[32mcol_double()\u001b[39m,\n",
      "  GSM1287726 = \u001b[32mcol_double()\u001b[39m,\n",
      "  GSM1287728 = \u001b[32mcol_double()\u001b[39m,\n",
      "  GSM1287730 = \u001b[32mcol_double()\u001b[39m,\n",
      "  GSM1287731 = \u001b[32mcol_double()\u001b[39m,\n",
      "  GSM1287732 = \u001b[32mcol_double()\u001b[39m,\n",
      "  GSM1287733 = \u001b[32mcol_double()\u001b[39m\n",
      ")\n",
      "\n",
      "Using locally cached version of GPL18049 found here:\n",
      "../data//GSE53211/GPL18049.soft \n",
      "\n"
     ]
    },
    {
     "name": "stdout",
     "output_type": "stream",
     "text": [
      "Reading file ../data//GSE53211/GSE53211_non-normalized_data_fixed.txt ... ...\n"
     ]
    },
    {
     "name": "stderr",
     "output_type": "stream",
     "text": [
      "Couldn't find raw data for: GSE53675\n",
      "\n",
      "Couldn't load raw Agilent data for: GSE24548\n",
      "\n",
      "Couldn't load raw Illumina data for: GSE53211\n",
      "\n"
     ]
    }
   ],
   "source": [
    "# Loads and annotates raw data previously downloaded with get_raw\n",
    "esets_miRNAs <- load_raw(gse_names=gse_names_miRNAs, data_dir=data_dir)"
   ]
  },
  {
   "cell_type": "code",
   "execution_count": 12,
   "metadata": {},
   "outputs": [
    {
     "data": {
      "text/plain": [
       "NULL"
      ]
     },
     "metadata": {},
     "output_type": "display_data"
    }
   ],
   "source": [
    "esets_miRNAs"
   ]
  },
  {
   "cell_type": "markdown",
   "metadata": {},
   "source": [
    "### Reference:\n",
    "\n",
    "- [Cross-Platform Meta Analysis](http://bioconductor.riken.jp/packages/3.8/bioc/vignettes/crossmeta/inst/doc/crossmeta-vignette.html)"
   ]
  },
  {
   "cell_type": "code",
   "execution_count": null,
   "metadata": {},
   "outputs": [],
   "source": []
  }
 ],
 "metadata": {
  "hide_input": false,
  "kernelspec": {
   "display_name": "R",
   "language": "R",
   "name": "ir"
  },
  "language_info": {
   "codemirror_mode": "r",
   "file_extension": ".r",
   "mimetype": "text/x-r-source",
   "name": "R",
   "pygments_lexer": "r",
   "version": "3.6.3"
  }
 },
 "nbformat": 4,
 "nbformat_minor": 2
}
