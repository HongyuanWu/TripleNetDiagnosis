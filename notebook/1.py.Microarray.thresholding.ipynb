{
 "cells": [
  {
   "cell_type": "markdown",
   "metadata": {},
   "source": [
    "## Microarray thresholding"
   ]
  },
  {
   "cell_type": "code",
   "execution_count": 1,
   "metadata": {},
   "outputs": [],
   "source": [
    "p_val = 0.05\n",
    "logFC = 1.2"
   ]
  },
  {
   "cell_type": "markdown",
   "metadata": {},
   "source": [
    "$$p < 0.05 \\text{ and } |\\log FC| > 1.2$$"
   ]
  },
  {
   "cell_type": "code",
   "execution_count": 2,
   "metadata": {},
   "outputs": [],
   "source": [
    "import os\n",
    "os.chdir(\"../\")"
   ]
  },
  {
   "cell_type": "code",
   "execution_count": 3,
   "metadata": {},
   "outputs": [],
   "source": [
    "from pathlib import Path\n",
    "from utils.mathresh_utils import applyMAthresh2all\n",
    "from utils.generic_utils import saveNameList"
   ]
  },
  {
   "cell_type": "code",
   "execution_count": 4,
   "metadata": {},
   "outputs": [],
   "source": [
    "data_dir = \"data/GEOquery/\"\n",
    "de_fn   = \"1.Microarray.thresholding.txt\"\n",
    "\n",
    "p = Path(os.path.join(data_dir, \"MArrayLM\"))"
   ]
  },
  {
   "cell_type": "markdown",
   "metadata": {},
   "source": [
    "### mRNA"
   ]
  },
  {
   "cell_type": "code",
   "execution_count": 5,
   "metadata": {
    "code_folding": []
   },
   "outputs": [
    {
     "name": "stdout",
     "output_type": "stream",
     "text": [
      "Apply MicroArray thresholding to all data.\n",
      "|logFC| > 1.2\n",
      "p_val < 0.05\n",
      "==========================================\n",
      "mRNA_GSE60993_preprocessed.csv : 48803 --[drop NaN]-> 48803 --[threshold]-> 32 (  0.1%)\n",
      "mRNA_GSE61144_preprocessed.csv : 48687 --[drop NaN]-> 48687 --[threshold]-> 17 (  0.0%)\n",
      "mRNA_GSE34198_preprocessed.csv : 48701 --[drop NaN]-> 45076 --[threshold]-> 707 (  1.5%)\n",
      "mRNA_GSE62646_preprocessed.csv : 33297 --[drop NaN]-> 33297 --[threshold]-> 6 (  0.0%)\n",
      "unique data : 762 -> 310 ( 40.7%)\n",
      "Save DEGs to data/GEOquery/DEGs/1.Microarray.thresholding.txt\n"
     ]
    }
   ],
   "source": [
    "mRNAs = applyMAthresh2all(\n",
    "    gen=p.glob(f\"mRNA_GSE{'[0-9]'*5}_preprocessed.csv\"),\n",
    "    colnames=[\"Gene.symbol\", \"Symbol\"],\n",
    "    logFC=logFC, p_val=p_val,\n",
    ")\n",
    "DEGs_path = os.path.join(data_dir, \"DEGs\", de_fn)\n",
    "saveNameList(lst=mRNAs, path=DEGs_path, remove_nan=True, add_num=True)\n",
    "print(f\"Save DEGs to {DEGs_path}\")"
   ]
  },
  {
   "cell_type": "markdown",
   "metadata": {},
   "source": [
    "### miRNA"
   ]
  },
  {
   "cell_type": "code",
   "execution_count": 6,
   "metadata": {},
   "outputs": [
    {
     "name": "stdout",
     "output_type": "stream",
     "text": [
      "Apply MicroArray thresholding to all data.\n",
      "|logFC| > 1.2\n",
      "p_val < 0.05\n",
      "==========================================\n",
      "miRNA_GSE53211_preprocessed.csv : 318 --[drop NaN]-> 246 --[threshold]-> 33 ( 10.4%)\n",
      "miRNA_GSE24548_preprocessed.csv : 292 --[drop NaN]-> 292 --[threshold]-> 11 (  3.8%)\n",
      "miRNA_GSE61741_preprocessed.csv : 848 --[drop NaN]-> 848 --[threshold]-> 84 (  9.9%)\n",
      "unique data : 128 -> 123 ( 96.1%)\n",
      "Save DEMis to data/GEOquery/DEMis/1.Microarray.thresholding.txt\n"
     ]
    }
   ],
   "source": [
    "miRNAs = applyMAthresh2all(\n",
    "    gen=p.glob(f\"miRNA_GSE{'[0-9]'*5}_preprocessed.csv\"),\n",
    "    colnames=\"miRNA_ID\",\n",
    "    logFC=logFC, p_val=p_val,\n",
    ")\n",
    "DEMis_path = os.path.join(data_dir, \"DEMis\", de_fn)\n",
    "saveNameList(lst=miRNAs, path=DEMis_path, remove_nan=True, add_num=True)\n",
    "print(f\"Save DEMis to {DEMis_path}\")"
   ]
  },
  {
   "cell_type": "code",
   "execution_count": null,
   "metadata": {},
   "outputs": [],
   "source": []
  }
 ],
 "metadata": {
  "hide_input": false,
  "kernelspec": {
   "display_name": "Python 3",
   "language": "python",
   "name": "python3"
  },
  "language_info": {
   "codemirror_mode": {
    "name": "ipython",
    "version": 3
   },
   "file_extension": ".py",
   "mimetype": "text/x-python",
   "name": "python",
   "nbconvert_exporter": "python",
   "pygments_lexer": "ipython3",
   "version": "3.6.8"
  }
 },
 "nbformat": 4,
 "nbformat_minor": 2
}
