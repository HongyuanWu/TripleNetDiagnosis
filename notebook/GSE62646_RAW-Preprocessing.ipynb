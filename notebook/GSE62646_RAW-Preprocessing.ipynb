{
 "cells": [
  {
   "cell_type": "markdown",
   "metadata": {},
   "source": [
    "## Preprocessing (`.CEL` file)"
   ]
  },
  {
   "cell_type": "markdown",
   "metadata": {},
   "source": [
    "※ CEL files the 'raw' data files produced at the end of the array scan, and are normally deposited in gene expression databases like [GEO](http://www.ncbi.nlm.nih.gov/geo/). "
   ]
  },
  {
   "cell_type": "code",
   "execution_count": 1,
   "metadata": {},
   "outputs": [
    {
     "name": "stderr",
     "output_type": "stream",
     "text": [
      "Loading required package: BiocGenerics\n",
      "\n",
      "Loading required package: parallel\n",
      "\n",
      "\n",
      "Attaching package: ‘BiocGenerics’\n",
      "\n",
      "\n",
      "The following objects are masked from ‘package:parallel’:\n",
      "\n",
      "    clusterApply, clusterApplyLB, clusterCall, clusterEvalQ,\n",
      "    clusterExport, clusterMap, parApply, parCapply, parLapply,\n",
      "    parLapplyLB, parRapply, parSapply, parSapplyLB\n",
      "\n",
      "\n",
      "The following objects are masked from ‘package:stats’:\n",
      "\n",
      "    IQR, mad, sd, var, xtabs\n",
      "\n",
      "\n",
      "The following objects are masked from ‘package:base’:\n",
      "\n",
      "    anyDuplicated, append, as.data.frame, cbind, colMeans, colnames,\n",
      "    colSums, do.call, duplicated, eval, evalq, Filter, Find, get, grep,\n",
      "    grepl, intersect, is.unsorted, lapply, lengths, Map, mapply, match,\n",
      "    mget, order, paste, pmax, pmax.int, pmin, pmin.int, Position, rank,\n",
      "    rbind, Reduce, rowMeans, rownames, rowSums, sapply, setdiff, sort,\n",
      "    table, tapply, union, unique, unsplit, which, which.max, which.min\n",
      "\n",
      "\n",
      "Loading required package: Biobase\n",
      "\n",
      "Welcome to Bioconductor\n",
      "\n",
      "    Vignettes contain introductory material; view with\n",
      "    'browseVignettes()'. To cite Bioconductor, see\n",
      "    'citation(\"Biobase\")', and for packages 'citation(\"pkgname\")'.\n",
      "\n",
      "\n",
      "Loading required package: oligoClasses\n",
      "\n",
      "Welcome to oligoClasses version 1.40.0\n",
      "\n",
      "\n",
      "Attaching package: ‘oligoClasses’\n",
      "\n",
      "\n",
      "The following object is masked from ‘package:affy’:\n",
      "\n",
      "    list.celfiles\n",
      "\n",
      "\n",
      "Loading required package: Biostrings\n",
      "\n",
      "Loading required package: S4Vectors\n",
      "\n",
      "Loading required package: stats4\n",
      "\n",
      "\n",
      "Attaching package: ‘S4Vectors’\n",
      "\n",
      "\n",
      "The following object is masked from ‘package:base’:\n",
      "\n",
      "    expand.grid\n",
      "\n",
      "\n",
      "Loading required package: IRanges\n",
      "\n",
      "Loading required package: XVector\n",
      "\n",
      "\n",
      "Attaching package: ‘Biostrings’\n",
      "\n",
      "\n",
      "The following object is masked from ‘package:base’:\n",
      "\n",
      "    strsplit\n",
      "\n",
      "\n",
      "No methods found in package ‘RSQLite’ for request: ‘dbListFields’ when loading ‘oligo’\n",
      "\n",
      "================================================================================\n",
      "\n",
      "Welcome to oligo version 1.42.0\n",
      "\n",
      "================================================================================\n",
      "\n",
      "\n",
      "Attaching package: ‘oligo’\n",
      "\n",
      "\n",
      "The following objects are masked from ‘package:affy’:\n",
      "\n",
      "    intensity, MAplot, mm, mm<-, mmindex, pm, pm<-, pmindex,\n",
      "    probeNames, rma\n",
      "\n",
      "\n",
      "Loading required package: RSQLite\n",
      "\n",
      "Loading required package: DBI\n",
      "\n"
     ]
    }
   ],
   "source": [
    "library(affy)\n",
    "library(oligo)\n",
    "library(pd.mogene.2.0.st)"
   ]
  },
  {
   "cell_type": "markdown",
   "metadata": {},
   "source": [
    "```R\n",
    "# load the script from the internet that is used in install bioconductor\n",
    "source(\"http://bioconductor.org/biocLite.R\")\n",
    "\n",
    "# Each of these commands tells Bioconductor to download and install each package\n",
    "biocLite(\"affy\")\n",
    "biocLite(\"oligo\")\n",
    "biocLite(\"limma\")\n",
    "\n",
    "# Installing BiocManager\n",
    "install.packages(\"BiocManager\")\n",
    "BiocManager::install(\"pd.mogene.2.0.st\")\n",
    "BiocManager::install(\"mogene20sttranscriptcluster.db\")\n",
    "# BiocManager::install()\n",
    "```"
   ]
  },
  {
   "cell_type": "markdown",
   "metadata": {},
   "source": [
    "### 1. Load `.CEL` file matrix and convert to Affymetrix Arrays"
   ]
  },
  {
   "cell_type": "markdown",
   "metadata": {},
   "source": [
    "First, the **[Affy package in R](https://academic.oup.com/bioinformatics/article/20/3/307/185980)** was used to convert the `.CEL` file matrix, which is unified in the form of expression value."
   ]
  },
  {
   "cell_type": "code",
   "execution_count": 2,
   "metadata": {},
   "outputs": [],
   "source": [
    "basedir <- \"../data/GSE62646_RAW\"\n",
    "setwd(basedir)"
   ]
  },
  {
   "cell_type": "code",
   "execution_count": 3,
   "metadata": {},
   "outputs": [
    {
     "name": "stderr",
     "output_type": "stream",
     "text": [
      "Loading required package: pd.hugene.1.0.st.v1\n",
      "\n",
      "Platform design info loaded.\n",
      "\n"
     ]
    },
    {
     "name": "stdout",
     "output_type": "stream",
     "text": [
      "Reading in : GSM1530765_Control_1.CEL\n",
      "Reading in : GSM1530766_Control_2.CEL\n",
      "Reading in : GSM1530767_Control_3.CEL\n",
      "Reading in : GSM1530768_Control_4.CEL\n",
      "Reading in : GSM1530769_Control_5.CEL\n",
      "Reading in : GSM1530770_Control_6.CEL\n",
      "Reading in : GSM1530771_Control_7.CEL\n",
      "Reading in : GSM1530772_Control_8.CEL\n",
      "Reading in : GSM1530773_Control_9.CEL\n",
      "Reading in : GSM1530774_Control_10.CEL\n",
      "Reading in : GSM1530775_Control_11.CEL\n",
      "Reading in : GSM1530776_Control_12.CEL\n",
      "Reading in : GSM1530777_Control_13.CEL\n",
      "Reading in : GSM1530778_Control_14.CEL\n",
      "Reading in : GSM1530779_Patient_1_admission.CEL\n",
      "Reading in : GSM1530780_Patient_1_discharge.CEL\n",
      "Reading in : GSM1530781_Patient_1_6_months.CEL\n",
      "Reading in : GSM1530782_Patient_2_admission.CEL\n",
      "Reading in : GSM1530783_Patient_2_discharge.CEL\n",
      "Reading in : GSM1530784_Patient_2_6_months.CEL\n",
      "Reading in : GSM1530785_Patient_3_admission.CEL\n",
      "Reading in : GSM1530786_Patient_3_discharge.CEL\n",
      "Reading in : GSM1530787_Patient_3_6_months.CEL\n",
      "Reading in : GSM1530788_Patient_4_admission.CEL\n",
      "Reading in : GSM1530789_Patient_4_discharge.CEL\n",
      "Reading in : GSM1530790_Patient_4_6_months.CEL\n",
      "Reading in : GSM1530791_Patient_5_admission.CEL\n",
      "Reading in : GSM1530792_Patient_5_discharge.CEL\n",
      "Reading in : GSM1530793_Patient_5_6_months.CEL\n",
      "Reading in : GSM1530794_Patient_6_admission.CEL\n",
      "Reading in : GSM1530795_Patient_6_discharge.CEL\n",
      "Reading in : GSM1530796_Patient_6_6_months.CEL\n",
      "Reading in : GSM1530797_Patient_7_admission.CEL\n",
      "Reading in : GSM1530798_Patient_7_discharge.CEL\n",
      "Reading in : GSM1530799_Patient_7_6_months.CEL\n",
      "Reading in : GSM1530800_Patient_8_admission.CEL\n",
      "Reading in : GSM1530801_Patient_8_discharge.CEL\n",
      "Reading in : GSM1530802_Patient_8_6_months.CEL\n",
      "Reading in : GSM1530803_Patient_9_admission.CEL\n",
      "Reading in : GSM1530804_Patient_9_discharge.CEL\n",
      "Reading in : GSM1530805_Patient_9_6_months.CEL\n",
      "Reading in : GSM1530806_Patient_10_admission.CEL\n",
      "Reading in : GSM1530807_Patient_10_discharge.CEL\n",
      "Reading in : GSM1530808_Patient_10_6_months.CEL\n",
      "Reading in : GSM1530809_Patient_11_admission.CEL\n",
      "Reading in : GSM1530810_Patient_11_discharge.CEL\n",
      "Reading in : GSM1530811_Patient_11_6_months.CEL\n",
      "Reading in : GSM1530812_Patient_12_admission.CEL\n",
      "Reading in : GSM1530813_Patient_12_discharge.CEL\n",
      "Reading in : GSM1530814_Patient_12_6_months.CEL\n",
      "Reading in : GSM1530815_Patient_13_admission.CEL\n",
      "Reading in : GSM1530816_Patient_13_discharge.CEL\n",
      "Reading in : GSM1530817_Patient_13_6_months.CEL\n",
      "Reading in : GSM1530818_Patient_14_admission.CEL\n",
      "Reading in : GSM1530819_Patient_14_discharge.CEL\n",
      "Reading in : GSM1530820_Patient_14_6_months.CEL\n",
      "Reading in : GSM1530821_Patient_15_admission.CEL\n",
      "Reading in : GSM1530822_Patient_15_discharge.CEL\n",
      "Reading in : GSM1530823_Patient_15_6_months.CEL\n",
      "Reading in : GSM1530824_Patient_16_admission.CEL\n",
      "Reading in : GSM1530825_Patient_16_discharge.CEL\n",
      "Reading in : GSM1530826_Patient_16_6_months.CEL\n",
      "Reading in : GSM1530827_Patient_17_admission.CEL\n",
      "Reading in : GSM1530828_Patient_17_discharge.CEL\n",
      "Reading in : GSM1530829_Patient_17_6_months.CEL\n",
      "Reading in : GSM1530830_Patient_18_admission.CEL\n",
      "Reading in : GSM1530831_Patient_18_discharge.CEL\n",
      "Reading in : GSM1530832_Patient_18_6_months.CEL\n",
      "Reading in : GSM1530833_Patient_19_admission.CEL\n",
      "Reading in : GSM1530834_Patient_19_discharge.CEL\n",
      "Reading in : GSM1530835_Patient_19_6_months.CEL\n",
      "Reading in : GSM1530836_Patient_20_admission.CEL\n",
      "Reading in : GSM1530837_Patient_20_discharge.CEL\n",
      "Reading in : GSM1530838_Patient_20_6_months.CEL\n",
      "Reading in : GSM1530839_Patient_21_admission.CEL\n",
      "Reading in : GSM1530840_Patient_21_discharge.CEL\n",
      "Reading in : GSM1530841_Patient_21_6_months.CEL\n",
      "Reading in : GSM1530842_Patient_22_admission.CEL\n",
      "Reading in : GSM1530843_Patient_22_discharge.CEL\n",
      "Reading in : GSM1530844_Patient_22_6_months.CEL\n",
      "Reading in : GSM1530845_Patient_23_admission.CEL\n",
      "Reading in : GSM1530846_Patient_23_discharge.CEL\n",
      "Reading in : GSM1530847_Patient_23_6_months.CEL\n",
      "Reading in : GSM1530848_Patient_24_admission.CEL\n",
      "Reading in : GSM1530849_Patient_24_discharge.CEL\n",
      "Reading in : GSM1530850_Patient_24_6_months.CEL\n",
      "Reading in : GSM1530851_Patient_25_admission.CEL\n",
      "Reading in : GSM1530852_Patient_25_discharge.CEL\n",
      "Reading in : GSM1530853_Patient_25_6_months.CEL\n",
      "Reading in : GSM1530854_Patient_26_admission.CEL\n",
      "Reading in : GSM1530855_Patient_26_discharge.CEL\n",
      "Reading in : GSM1530856_Patient_26_6_months.CEL\n",
      "Reading in : GSM1530857_Patient_27_admission.CEL\n",
      "Reading in : GSM1530858_Patient_27_discharge.CEL\n",
      "Reading in : GSM1530859_Patient_27_6_months.CEL\n",
      "Reading in : GSM1530860_Patient_28_admission.CEL\n",
      "Reading in : GSM1530861_Patient_28_discharge.CEL\n",
      "Reading in : GSM1530862_Patient_28_6_months.CEL\n"
     ]
    }
   ],
   "source": [
    "celFiles <- list.celfiles()\n",
    "affyRaw  <- read.celfiles(celFiles)"
   ]
  },
  {
   "cell_type": "code",
   "execution_count": 4,
   "metadata": {},
   "outputs": [
    {
     "data": {
      "text/plain": [
       "GeneFeatureSet (storageMode: lockedEnvironment)\n",
       "assayData: 1102500 features, 98 samples \n",
       "  element names: exprs \n",
       "protocolData\n",
       "  rowNames: GSM1530765_Control_1.CEL GSM1530766_Control_2.CEL ...\n",
       "    GSM1530862_Patient_28_6_months.CEL (98 total)\n",
       "  varLabels: exprs dates\n",
       "  varMetadata: labelDescription channel\n",
       "phenoData\n",
       "  rowNames: GSM1530765_Control_1.CEL GSM1530766_Control_2.CEL ...\n",
       "    GSM1530862_Patient_28_6_months.CEL (98 total)\n",
       "  varLabels: index\n",
       "  varMetadata: labelDescription channel\n",
       "featureData: none\n",
       "experimentData: use 'experimentData(object)'\n",
       "Annotation: pd.hugene.1.0.st.v1 "
      ]
     },
     "metadata": {},
     "output_type": "display_data"
    }
   ],
   "source": [
    "affyRaw"
   ]
  },
  {
   "cell_type": "markdown",
   "metadata": {},
   "source": [
    "### 2. Normalizing Affy Data from CEL files"
   ]
  },
  {
   "cell_type": "markdown",
   "metadata": {},
   "source": [
    "Next, **the Robust Multi-array Average (RMA) method** was performed to normalize the expression matrix."
   ]
  },
  {
   "cell_type": "code",
   "execution_count": 5,
   "metadata": {},
   "outputs": [
    {
     "name": "stdout",
     "output_type": "stream",
     "text": [
      "Background correcting\n",
      "Normalizing\n",
      "Calculating Expression\n"
     ]
    }
   ],
   "source": [
    "eset <- rma(affyRaw)"
   ]
  },
  {
   "cell_type": "code",
   "execution_count": 6,
   "metadata": {},
   "outputs": [
    {
     "data": {
      "text/plain": [
       "ExpressionSet (storageMode: lockedEnvironment)\n",
       "assayData: 33297 features, 98 samples \n",
       "  element names: exprs \n",
       "protocolData\n",
       "  rowNames: GSM1530765_Control_1.CEL GSM1530766_Control_2.CEL ...\n",
       "    GSM1530862_Patient_28_6_months.CEL (98 total)\n",
       "  varLabels: exprs dates\n",
       "  varMetadata: labelDescription channel\n",
       "phenoData\n",
       "  rowNames: GSM1530765_Control_1.CEL GSM1530766_Control_2.CEL ...\n",
       "    GSM1530862_Patient_28_6_months.CEL (98 total)\n",
       "  varLabels: index\n",
       "  varMetadata: labelDescription channel\n",
       "featureData: none\n",
       "experimentData: use 'experimentData(object)'\n",
       "Annotation: pd.hugene.1.0.st.v1 "
      ]
     },
     "metadata": {},
     "output_type": "display_data"
    }
   ],
   "source": [
    "eset"
   ]
  },
  {
   "cell_type": "code",
   "execution_count": 7,
   "metadata": {},
   "outputs": [],
   "source": [
    "# Finally, save the data to an output file to be used by other programs, etc (Data will be log2 transformed and normalized)\n",
    "write.exprs(eset,file=\"GSE62646.txt\")"
   ]
  },
  {
   "cell_type": "markdown",
   "metadata": {},
   "source": [
    "### 3. Adding Gene Annotation to Normalized Expression Output"
   ]
  },
  {
   "cell_type": "markdown",
   "metadata": {},
   "source": [
    "Finally, the **Bioconductor** package in R was employed to convert the probe information into a gene symbol. When multiple probes corresponded to only one gene, the average between the probes were used for the final expression."
   ]
  },
  {
   "cell_type": "code",
   "execution_count": 8,
   "metadata": {},
   "outputs": [
    {
     "name": "stderr",
     "output_type": "stream",
     "text": [
      "Loading required package: AnnotationDbi\n",
      "\n",
      "Loading required package: org.Mm.eg.db\n",
      "\n",
      "\n",
      "\n",
      "\n",
      "\n"
     ]
    }
   ],
   "source": [
    "# Load annotation library\n",
    "library(mogene20sttranscriptcluster.db)"
   ]
  },
  {
   "cell_type": "code",
   "execution_count": 9,
   "metadata": {},
   "outputs": [],
   "source": [
    "# Strategy is to create data frame objects and merge them together - put expression info into a data frame\n",
    "my_frame <- data.frame(exprs(eset))"
   ]
  },
  {
   "cell_type": "code",
   "execution_count": 10,
   "metadata": {},
   "outputs": [],
   "source": [
    "# Put annotation information in a data frame.  To get specific fields, use packageNameSYMBOL, where the caps part names the type of data you're after\n",
    "# To get a list of available annotation information, run the packagename with () at the end, i.e. mogene20sttranscriptcluster()\n",
    "Annot <- data.frame(ACCNUM=sapply(contents(mogene20sttranscriptclusterACCNUM), paste, collapse=\", \"), SYMBOL=sapply(contents(mogene20sttranscriptclusterSYMBOL), paste, collapse=\", \"), DESC=sapply(contents(mogene20sttranscriptclusterGENENAME), paste, collapse=\", \"))"
   ]
  },
  {
   "cell_type": "code",
   "execution_count": 11,
   "metadata": {},
   "outputs": [],
   "source": [
    "# Merge data frames together (like a database table join)\n",
    "all <- merge(Annot, my_frame, by.x=0, by.y=0, all=T)"
   ]
  },
  {
   "cell_type": "code",
   "execution_count": 12,
   "metadata": {},
   "outputs": [],
   "source": [
    "# Write out to a file:\n",
    "write.table(all,file=\"GSE62646.ann.txt\", sep=\"\\t\")"
   ]
  },
  {
   "cell_type": "markdown",
   "metadata": {},
   "source": [
    "### Reference\n",
    "\n",
    "- [Processing Affymetrix Gene Expression Arrays](http://homer.ucsd.edu/homer/basicTutorial/affymetrix.html)"
   ]
  }
 ],
 "metadata": {
  "hide_input": false,
  "kernelspec": {
   "display_name": "R",
   "language": "R",
   "name": "ir"
  },
  "language_info": {
   "codemirror_mode": "r",
   "file_extension": ".r",
   "mimetype": "text/x-r-source",
   "name": "R",
   "pygments_lexer": "r",
   "version": "3.4.4"
  }
 },
 "nbformat": 4,
 "nbformat_minor": 2
}
