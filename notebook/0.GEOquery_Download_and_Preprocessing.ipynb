{
 "cells": [
  {
   "cell_type": "markdown",
   "metadata": {},
   "source": [
    "# [`GEOquery`](https://www.bioconductor.org/packages/release/bioc/html/GEOquery.html)"
   ]
  },
  {
   "cell_type": "code",
   "execution_count": 1,
   "metadata": {},
   "outputs": [],
   "source": [
    "# if (!requireNamespace(\"BiocManager\", quietly = TRUE))\n",
    "#     install.packages(\"BiocManager\")\n",
    "\n",
    "# BiocManager::install(\"GEOquery\")"
   ]
  },
  {
   "cell_type": "code",
   "execution_count": 2,
   "metadata": {},
   "outputs": [
    {
     "name": "stderr",
     "output_type": "stream",
     "text": [
      "Loading required package: Biobase\n",
      "\n",
      "Loading required package: BiocGenerics\n",
      "\n",
      "Loading required package: parallel\n",
      "\n",
      "\n",
      "Attaching package: ‘BiocGenerics’\n",
      "\n",
      "\n",
      "The following objects are masked from ‘package:parallel’:\n",
      "\n",
      "    clusterApply, clusterApplyLB, clusterCall, clusterEvalQ,\n",
      "    clusterExport, clusterMap, parApply, parCapply, parLapply,\n",
      "    parLapplyLB, parRapply, parSapply, parSapplyLB\n",
      "\n",
      "\n",
      "The following objects are masked from ‘package:stats’:\n",
      "\n",
      "    IQR, mad, sd, var, xtabs\n",
      "\n",
      "\n",
      "The following objects are masked from ‘package:base’:\n",
      "\n",
      "    anyDuplicated, append, as.data.frame, basename, cbind, colnames,\n",
      "    dirname, do.call, duplicated, eval, evalq, Filter, Find, get, grep,\n",
      "    grepl, intersect, is.unsorted, lapply, Map, mapply, match, mget,\n",
      "    order, paste, pmax, pmax.int, pmin, pmin.int, Position, rank,\n",
      "    rbind, Reduce, rownames, sapply, setdiff, sort, table, tapply,\n",
      "    union, unique, unsplit, which, which.max, which.min\n",
      "\n",
      "\n",
      "Welcome to Bioconductor\n",
      "\n",
      "    Vignettes contain introductory material; view with\n",
      "    'browseVignettes()'. To cite Bioconductor, see\n",
      "    'citation(\"Biobase\")', and for packages 'citation(\"pkgname\")'.\n",
      "\n",
      "\n",
      "Setting options('download.file.method.GEOquery'='auto')\n",
      "\n",
      "Setting options('GEOquery.inmemory.gpl'=FALSE)\n",
      "\n",
      "Loading required package: AnnotationDbi\n",
      "\n",
      "Loading required package: stats4\n",
      "\n",
      "Loading required package: IRanges\n",
      "\n",
      "Loading required package: S4Vectors\n",
      "\n",
      "\n",
      "Attaching package: ‘S4Vectors’\n",
      "\n",
      "\n",
      "The following object is masked from ‘package:base’:\n",
      "\n",
      "    expand.grid\n",
      "\n",
      "\n",
      "Loading required package: org.Mm.eg.db\n",
      "\n",
      "\n",
      "\n",
      "\n",
      "\n"
     ]
    }
   ],
   "source": [
    "library(GEOquery)\n",
    "# Load annotation library\n",
    "library(mogene20sttranscriptcluster.db)"
   ]
  },
  {
   "cell_type": "code",
   "execution_count": 3,
   "metadata": {},
   "outputs": [],
   "source": [
    "basedir <- \"../data/GEOquery\"\n",
    "setwd(basedir)"
   ]
  },
  {
   "cell_type": "code",
   "execution_count": 4,
   "metadata": {},
   "outputs": [],
   "source": [
    "# gather all GSEs\n",
    "gse_names_mRNAs  <- c(\n",
    "    \"GSE34918\", \n",
    "    \"GSE62646\", \n",
    "    \"GSE60993\", \n",
    "    \"GSE61144\"\n",
    ")\n",
    "gse_names_miRNAs  <- c(\n",
    "    \"GSE24548\", \n",
    "    \"GSE53211\", \n",
    "    \"GSE61741\"\n",
    ")"
   ]
  },
  {
   "cell_type": "code",
   "execution_count": 5,
   "metadata": {},
   "outputs": [
    {
     "name": "stdout",
     "output_type": "stream",
     "text": [
      "[1] \"GSE34918\"\n"
     ]
    },
    {
     "name": "stderr",
     "output_type": "stream",
     "text": [
      "Found 1 file(s)\n",
      "\n",
      "GSE34918_series_matrix.txt.gz\n",
      "\n",
      "Parsed with column specification:\n",
      "cols(\n",
      "  ID_REF = \u001b[31mcol_character()\u001b[39m,\n",
      "  GSM857496 = \u001b[32mcol_double()\u001b[39m,\n",
      "  GSM857497 = \u001b[32mcol_double()\u001b[39m,\n",
      "  GSM857498 = \u001b[32mcol_double()\u001b[39m,\n",
      "  GSM857499 = \u001b[32mcol_double()\u001b[39m,\n",
      "  GSM857500 = \u001b[32mcol_double()\u001b[39m\n",
      ")\n",
      "\n",
      "File stored at: \n",
      "\n",
      "/var/folders/05/mpp8k7kd0r3109bn9c7xt5180000gn/T//Rtmpk3gpnW/GPL10558.soft\n",
      "\n",
      "Warning message:\n",
      "“3270 parsing failures.\n",
      "  row        col           expected    actual         file\n",
      "29537 Unigene_ID 1/0/T/F/TRUE/FALSE Hs.571610 literal data\n",
      "29538 Unigene_ID 1/0/T/F/TRUE/FALSE Hs.545780 literal data\n",
      "29539 Unigene_ID 1/0/T/F/TRUE/FALSE Hs.554603 literal data\n",
      "29540 Unigene_ID 1/0/T/F/TRUE/FALSE Hs.437179 literal data\n",
      "29541 Unigene_ID 1/0/T/F/TRUE/FALSE Hs.128234 literal data\n",
      "..... .......... .................. ......... ............\n",
      "See problems(...) for more details.\n",
      "”\n"
     ]
    },
    {
     "name": "stdout",
     "output_type": "stream",
     "text": [
      "[1] \"GSE62646\"\n"
     ]
    },
    {
     "name": "stderr",
     "output_type": "stream",
     "text": [
      "Found 1 file(s)\n",
      "\n",
      "GSE62646_series_matrix.txt.gz\n",
      "\n",
      "Parsed with column specification:\n",
      "cols(\n",
      "  .default = col_double()\n",
      ")\n",
      "\n",
      "See spec(...) for full column specifications.\n",
      "\n",
      "File stored at: \n",
      "\n",
      "/var/folders/05/mpp8k7kd0r3109bn9c7xt5180000gn/T//Rtmpk3gpnW/GPL6244.soft\n",
      "\n"
     ]
    },
    {
     "name": "stdout",
     "output_type": "stream",
     "text": [
      "[1] \"GSE60993\"\n"
     ]
    },
    {
     "name": "stderr",
     "output_type": "stream",
     "text": [
      "Found 1 file(s)\n",
      "\n",
      "GSE60993_series_matrix.txt.gz\n",
      "\n",
      "Parsed with column specification:\n",
      "cols(\n",
      "  .default = col_double(),\n",
      "  ID_REF = \u001b[31mcol_character()\u001b[39m\n",
      ")\n",
      "\n",
      "See spec(...) for full column specifications.\n",
      "\n",
      "File stored at: \n",
      "\n",
      "/var/folders/05/mpp8k7kd0r3109bn9c7xt5180000gn/T//Rtmpk3gpnW/GPL6884.soft\n",
      "\n"
     ]
    },
    {
     "name": "stdout",
     "output_type": "stream",
     "text": [
      "[1] \"GSE61144\"\n"
     ]
    },
    {
     "name": "stderr",
     "output_type": "stream",
     "text": [
      "Found 1 file(s)\n",
      "\n",
      "GSE61144_series_matrix.txt.gz\n",
      "\n",
      "Parsed with column specification:\n",
      "cols(\n",
      "  .default = col_double()\n",
      ")\n",
      "\n",
      "See spec(...) for full column specifications.\n",
      "\n",
      "File stored at: \n",
      "\n",
      "/var/folders/05/mpp8k7kd0r3109bn9c7xt5180000gn/T//Rtmpk3gpnW/GPL6106.soft\n",
      "\n"
     ]
    }
   ],
   "source": [
    "for (mRNA in gse_names_mRNAs) {\n",
    "    print(mRNA)\n",
    "    fn   <- paste(\"mRNA_\", mRNA)\n",
    "    eset <- getGEO(mRNA)[[1]]\n",
    "    write.exprs(eset,file=paste(fn, \".txt\", sep=\"\"))\n",
    "    my_frame <- data.frame(exprs(eset))\n",
    "    Annot <- data.frame(\n",
    "        ACCNUM=sapply(\n",
    "            contents(mogene20sttranscriptclusterACCNUM), paste, collapse=\", \"),\n",
    "        SYMBOL=sapply(contents(mogene20sttranscriptclusterSYMBOL), paste, collapse=\", \"), \n",
    "        DESC=sapply(contents(mogene20sttranscriptclusterGENENAME), paste, collapse=\", \")\n",
    "    )\n",
    "    all <- merge(Annot, my_frame, by.x=0, by.y=0, all=T)\n",
    "    write.table(all,file=paste(fn, \".ann.txt\", sep=\"\"), sep=\"\\t\")\n",
    "}"
   ]
  },
  {
   "cell_type": "code",
   "execution_count": 6,
   "metadata": {},
   "outputs": [
    {
     "name": "stdout",
     "output_type": "stream",
     "text": [
      "[1] \"GSE24548\"\n"
     ]
    },
    {
     "name": "stderr",
     "output_type": "stream",
     "text": [
      "Found 1 file(s)\n",
      "\n",
      "GSE24548_series_matrix.txt.gz\n",
      "\n",
      "Parsed with column specification:\n",
      "cols(\n",
      "  ID_REF = \u001b[31mcol_character()\u001b[39m,\n",
      "  GSM605087 = \u001b[32mcol_double()\u001b[39m,\n",
      "  GSM605088 = \u001b[32mcol_double()\u001b[39m,\n",
      "  GSM605089 = \u001b[32mcol_double()\u001b[39m,\n",
      "  GSM605090 = \u001b[32mcol_double()\u001b[39m,\n",
      "  GSM605091 = \u001b[32mcol_double()\u001b[39m,\n",
      "  GSM605092 = \u001b[32mcol_double()\u001b[39m,\n",
      "  GSM605113 = \u001b[32mcol_double()\u001b[39m\n",
      ")\n",
      "\n",
      "File stored at: \n",
      "\n",
      "/var/folders/05/mpp8k7kd0r3109bn9c7xt5180000gn/T//Rtmpk3gpnW/GPL8227.soft\n",
      "\n",
      "Warning message:\n",
      "“Duplicated column names deduplicated: 'SPOT_ID' => 'SPOT_ID_1' [6]”\n"
     ]
    },
    {
     "name": "stdout",
     "output_type": "stream",
     "text": [
      "[1] \"GSE53211\"\n"
     ]
    },
    {
     "name": "stderr",
     "output_type": "stream",
     "text": [
      "Found 1 file(s)\n",
      "\n",
      "GSE53211_series_matrix.txt.gz\n",
      "\n",
      "Parsed with column specification:\n",
      "cols(\n",
      "  ID_REF = \u001b[31mcol_character()\u001b[39m,\n",
      "  GSM1287710 = \u001b[32mcol_double()\u001b[39m,\n",
      "  GSM1287711 = \u001b[32mcol_double()\u001b[39m,\n",
      "  GSM1287712 = \u001b[32mcol_double()\u001b[39m,\n",
      "  GSM1287713 = \u001b[32mcol_double()\u001b[39m,\n",
      "  GSM1287714 = \u001b[32mcol_double()\u001b[39m,\n",
      "  GSM1287715 = \u001b[32mcol_double()\u001b[39m,\n",
      "  GSM1287716 = \u001b[32mcol_double()\u001b[39m,\n",
      "  GSM1287717 = \u001b[32mcol_double()\u001b[39m,\n",
      "  GSM1287719 = \u001b[32mcol_double()\u001b[39m,\n",
      "  GSM1287721 = \u001b[32mcol_double()\u001b[39m,\n",
      "  GSM1287723 = \u001b[32mcol_double()\u001b[39m,\n",
      "  GSM1287724 = \u001b[32mcol_double()\u001b[39m,\n",
      "  GSM1287726 = \u001b[32mcol_double()\u001b[39m,\n",
      "  GSM1287728 = \u001b[32mcol_double()\u001b[39m,\n",
      "  GSM1287730 = \u001b[32mcol_double()\u001b[39m,\n",
      "  GSM1287731 = \u001b[32mcol_double()\u001b[39m,\n",
      "  GSM1287732 = \u001b[32mcol_double()\u001b[39m,\n",
      "  GSM1287733 = \u001b[32mcol_double()\u001b[39m\n",
      ")\n",
      "\n",
      "File stored at: \n",
      "\n",
      "/var/folders/05/mpp8k7kd0r3109bn9c7xt5180000gn/T//Rtmpk3gpnW/GPL18049.soft\n",
      "\n"
     ]
    },
    {
     "name": "stdout",
     "output_type": "stream",
     "text": [
      "[1] \"GSE61741\"\n"
     ]
    },
    {
     "name": "stderr",
     "output_type": "stream",
     "text": [
      "Found 1 file(s)\n",
      "\n",
      "GSE61741_series_matrix.txt.gz\n",
      "\n",
      "Parsed with column specification:\n",
      "cols(\n",
      "  .default = col_double(),\n",
      "  ID_REF = \u001b[31mcol_character()\u001b[39m\n",
      ")\n",
      "\n",
      "See spec(...) for full column specifications.\n",
      "\n",
      "File stored at: \n",
      "\n",
      "/var/folders/05/mpp8k7kd0r3109bn9c7xt5180000gn/T//Rtmpk3gpnW/GPL9040.soft\n",
      "\n"
     ]
    }
   ],
   "source": [
    "for (miRNA in gse_names_miRNAs) {\n",
    "    print(miRNA)\n",
    "    fn   <- paste(\"miRNA_\", miRNA, sep=\"\")\n",
    "    eset <- getGEO(miRNA)[[1]]\n",
    "    write.exprs(eset,file=paste(fn, \".txt\"))\n",
    "    my_frame <- data.frame(exprs(eset))\n",
    "    Annot <- data.frame(\n",
    "        ACCNUM=sapply(\n",
    "            contents(mogene20sttranscriptclusterACCNUM), paste, collapse=\", \"),\n",
    "        SYMBOL=sapply(contents(mogene20sttranscriptclusterSYMBOL), paste, collapse=\", \"), \n",
    "        DESC=sapply(contents(mogene20sttranscriptclusterGENENAME), paste, collapse=\", \")\n",
    "    )\n",
    "    all <- merge(Annot, my_frame, by.x=0, by.y=0, all=T)\n",
    "    write.table(all,file=paste(fn, \".ann.txt\", sep=\"\"), sep=\"\\t\")\n",
    "}"
   ]
  },
  {
   "cell_type": "code",
   "execution_count": null,
   "metadata": {},
   "outputs": [],
   "source": []
  }
 ],
 "metadata": {
  "hide_input": false,
  "kernelspec": {
   "display_name": "R",
   "language": "R",
   "name": "ir"
  },
  "language_info": {
   "codemirror_mode": "r",
   "file_extension": ".r",
   "mimetype": "text/x-r-source",
   "name": "R",
   "pygments_lexer": "r",
   "version": "3.6.3"
  }
 },
 "nbformat": 4,
 "nbformat_minor": 2
}
